{
 "cells": [
  {
   "cell_type": "markdown",
   "id": "ecdc1955",
   "metadata": {},
   "source": [
    "# PREMIER LEAGUE CLUB INVESTMENT ANALYSIS FOR AN INVESTMENT COMPANY (EDA)"
   ]
  },
  {
   "cell_type": "markdown",
   "id": "1391d754",
   "metadata": {},
   "source": [
    "## DOMAIN: SPORTS"
   ]
  },
  {
   "cell_type": "markdown",
   "id": "0f69d6a0",
   "metadata": {},
   "source": [
    "### Context:"
   ]
  },
  {
   "cell_type": "markdown",
   "id": "e297c778",
   "metadata": {},
   "source": [
    "A renowed investment firm usually inveest in top-tier sports teams that have potential. The dataset in their possession comprises crucial information about all the clubs that have participated in premier league (assume that it has the data for all the clubs). It includes data on the number of goals scored, the number of times they have finished in the top two positions and other relevent details."
   ]
  },
  {
   "cell_type": "markdown",
   "id": "a7aa4424",
   "metadata": {},
   "source": [
    "#### Data:\n",
    "Premier league final data csv- The data set contains information on all the clubs so far participated in all the premier league tournaments."
   ]
  },
  {
   "cell_type": "markdown",
   "id": "6122fa36",
   "metadata": {},
   "source": [
    "#### Data dictionary:"
   ]
  },
  {
   "cell_type": "markdown",
   "id": "8d431068",
   "metadata": {},
   "source": [
    "* Club: Name of the football club"
   ]
  },
  {
   "cell_type": "markdown",
   "id": "87555b19",
   "metadata": {},
   "source": [
    "* Matches: Number of matches the club has played in the premier league"
   ]
  },
  {
   "cell_type": "markdown",
   "id": "b631ae92",
   "metadata": {},
   "source": [
    "* Wins: Number of matches won by the club in the premier league"
   ]
  },
  {
   "cell_type": "markdown",
   "id": "535ee297",
   "metadata": {},
   "source": [
    "* Loss: Number of matches lost by the club in the premier league"
   ]
  },
  {
   "cell_type": "markdown",
   "id": "0a4c2cf7",
   "metadata": {},
   "source": [
    "* Draws: Number of matches drawn by the club in the premier league"
   ]
  },
  {
   "cell_type": "markdown",
   "id": "ef2fef40",
   "metadata": {},
   "source": [
    "* Cleansheets: Number of matches in which the club has prevented the opposing sides from scoring"
   ]
  },
  {
   "cell_type": "markdown",
   "id": "17abd139",
   "metadata": {},
   "source": [
    "* Team launch: year in which the club was founded"
   ]
  },
  {
   "cell_type": "markdown",
   "id": "cfd04d0e",
   "metadata": {},
   "source": [
    "* Winners: Number of times the club has won the Premier league"
   ]
  },
  {
   "cell_type": "markdown",
   "id": "75b092d2",
   "metadata": {},
   "source": [
    "* Runners-up: Number of times the club has finished as runners-up in the premier league"
   ]
  },
  {
   "cell_type": "markdown",
   "id": "66cc3beb",
   "metadata": {},
   "source": [
    "* Last-played_pl: Year in which the team last played in the premier league"
   ]
  },
  {
   "cell_type": "markdown",
   "id": "de8b02e8",
   "metadata": {},
   "source": [
    "#### Project Objective"
   ]
  },
  {
   "cell_type": "markdown",
   "id": "ea273f79",
   "metadata": {},
   "source": [
    "The management of the firm aims to invest in one of the top- performing club in the English Premier league. To aid in their decision-making process, the analytics department has been tasked with creating a comprehensive report on the performance of various clubs. However, some of the more established clubs have already been owned by the competitors. As a result, the firm wishes to identify the clubs they can approach and potentially invest to ensure a succesful and profitable deal."
   ]
  },
  {
   "cell_type": "markdown",
   "id": "8a38c667",
   "metadata": {},
   "source": [
    "### Note:\n",
    "-Dataset has been downloaded from the internet using multiple sources. All the credit for the dataset goes to the original creator of the data."
   ]
  },
  {
   "cell_type": "markdown",
   "id": "9b55b6ff",
   "metadata": {},
   "source": [
    "## PROCESS OF ANALYSIS"
   ]
  },
  {
   "cell_type": "markdown",
   "id": "429a37d9",
   "metadata": {},
   "source": [
    " * **DATA CLEANING**- The process of identifying and correcting or removing errors, inconsistencies and inaccuracies in a dataset."
   ]
  },
  {
   "cell_type": "markdown",
   "id": "0f3f59a2",
   "metadata": {},
   "source": [
    "* **PRIMARY ANALYSIS**- This involves Descriptive analysis which is examining the data and noting any notable findings, anomalies or areas of interest."
   ]
  },
  {
   "cell_type": "markdown",
   "id": "dbd69a6a",
   "metadata": {},
   "source": [
    "* **EXPLORATORY DATA ANALYSIS**- The Goal of EDA is to uncover insights and trends that can help inform further analysis or decision making. It is often the first step in any data analysis project, as it provides a foundation for more advanced statistical methods and models."
   ]
  },
  {
   "cell_type": "markdown",
   "id": "0fb60497",
   "metadata": {},
   "source": [
    "* **INTERPRETATION**- The interpretation of data helps researchers to categorize, manipulate and summarize the observations in order to get conclusions."
   ]
  },
  {
   "cell_type": "markdown",
   "id": "efbea5b5",
   "metadata": {},
   "source": [
    "### Let's understand the data!!"
   ]
  },
  {
   "cell_type": "code",
   "execution_count": 3,
   "id": "84e7905d",
   "metadata": {},
   "outputs": [],
   "source": [
    "# import data for data cleaning and data analysis\n",
    "\n",
    "import numpy as np\n",
    "import pandas as pd"
   ]
  },
  {
   "cell_type": "code",
   "execution_count": 5,
   "id": "ef5bc7e4",
   "metadata": {},
   "outputs": [],
   "source": [
    "# import dataset\n",
    "df = pd.read_csv(r\"C:\\Users\\komal\\Downloads\\Premier_League_Final_Data_batch2.csv\")"
   ]
  },
  {
   "cell_type": "code",
   "execution_count": 6,
   "id": "a9e7a945",
   "metadata": {},
   "outputs": [
    {
     "data": {
      "text/html": [
       "<div>\n",
       "<style scoped>\n",
       "    .dataframe tbody tr th:only-of-type {\n",
       "        vertical-align: middle;\n",
       "    }\n",
       "\n",
       "    .dataframe tbody tr th {\n",
       "        vertical-align: top;\n",
       "    }\n",
       "\n",
       "    .dataframe thead th {\n",
       "        text-align: right;\n",
       "    }\n",
       "</style>\n",
       "<table border=\"1\" class=\"dataframe\">\n",
       "  <thead>\n",
       "    <tr style=\"text-align: right;\">\n",
       "      <th></th>\n",
       "      <th>Club</th>\n",
       "      <th>Matches Played</th>\n",
       "      <th>Win</th>\n",
       "      <th>Loss</th>\n",
       "      <th>Drawn</th>\n",
       "      <th>Goals</th>\n",
       "      <th>Clean Sheets</th>\n",
       "      <th>TeamLaunch</th>\n",
       "      <th>Winners</th>\n",
       "      <th>Runners-up</th>\n",
       "      <th>lastplayed_pl</th>\n",
       "    </tr>\n",
       "  </thead>\n",
       "  <tbody>\n",
       "    <tr>\n",
       "      <th>0</th>\n",
       "      <td>1Arsenal</td>\n",
       "      <td>1182</td>\n",
       "      <td>642</td>\n",
       "      <td>252</td>\n",
       "      <td>288</td>\n",
       "      <td>2089</td>\n",
       "      <td>448</td>\n",
       "      <td>1886</td>\n",
       "      <td>3.0</td>\n",
       "      <td>6</td>\n",
       "      <td>Apr-23</td>\n",
       "    </tr>\n",
       "    <tr>\n",
       "      <th>1</th>\n",
       "      <td>2Aston Villa</td>\n",
       "      <td>1062</td>\n",
       "      <td>368</td>\n",
       "      <td>399</td>\n",
       "      <td>295</td>\n",
       "      <td>1306</td>\n",
       "      <td>311</td>\n",
       "      <td>1874</td>\n",
       "      <td>0.0</td>\n",
       "      <td>1</td>\n",
       "      <td>Apr-23</td>\n",
       "    </tr>\n",
       "    <tr>\n",
       "      <th>2</th>\n",
       "      <td>3Birmingham City</td>\n",
       "      <td>266</td>\n",
       "      <td>73</td>\n",
       "      <td>111</td>\n",
       "      <td>82</td>\n",
       "      <td>273</td>\n",
       "      <td>66</td>\n",
       "      <td>1875</td>\n",
       "      <td>0.0</td>\n",
       "      <td>NaN</td>\n",
       "      <td>May-11</td>\n",
       "    </tr>\n",
       "    <tr>\n",
       "      <th>3</th>\n",
       "      <td>4Blackburn Rovers</td>\n",
       "      <td>696</td>\n",
       "      <td>262</td>\n",
       "      <td>250</td>\n",
       "      <td>184</td>\n",
       "      <td>927</td>\n",
       "      <td>210</td>\n",
       "      <td>1875</td>\n",
       "      <td>1.0</td>\n",
       "      <td>1</td>\n",
       "      <td>May-12</td>\n",
       "    </tr>\n",
       "    <tr>\n",
       "      <th>4</th>\n",
       "      <td>5Bolton Wanderers</td>\n",
       "      <td>494</td>\n",
       "      <td>149</td>\n",
       "      <td>217</td>\n",
       "      <td>128</td>\n",
       "      <td>575</td>\n",
       "      <td>108</td>\n",
       "      <td>1874</td>\n",
       "      <td>0.0</td>\n",
       "      <td>0</td>\n",
       "      <td>May-12</td>\n",
       "    </tr>\n",
       "  </tbody>\n",
       "</table>\n",
       "</div>"
      ],
      "text/plain": [
       "                Club  Matches Played  Win  Loss  Drawn  Goals  Clean Sheets  \\\n",
       "0           1Arsenal            1182  642   252    288   2089           448   \n",
       "1       2Aston Villa            1062  368   399    295   1306           311   \n",
       "2   3Birmingham City             266   73   111     82    273            66   \n",
       "3  4Blackburn Rovers             696  262   250    184    927           210   \n",
       "4  5Bolton Wanderers             494  149   217    128    575           108   \n",
       "\n",
       "  TeamLaunch  Winners Runners-up lastplayed_pl  \n",
       "0       1886      3.0          6        Apr-23  \n",
       "1       1874      0.0          1        Apr-23  \n",
       "2       1875      0.0        NaN        May-11  \n",
       "3       1875      1.0          1        May-12  \n",
       "4       1874      0.0          0        May-12  "
      ]
     },
     "execution_count": 6,
     "metadata": {},
     "output_type": "execute_result"
    }
   ],
   "source": [
    "# Let's see the snapshot of our data\n",
    "df.head()"
   ]
  },
  {
   "cell_type": "markdown",
   "id": "04c98d95",
   "metadata": {},
   "source": [
    "Here's the dataset of the football clubs. Clearly, We have 11 columns where 1st column has the names of the clubs and other columns with the information about their performances in the premier league. We need to clean the data as we can see, There are serial numbers attached to the names of the clubs and also null values in the Runners-up coulumn. \n",
    "Let's get another detailed view!"
   ]
  },
  {
   "cell_type": "code",
   "execution_count": 7,
   "id": "199aa09e",
   "metadata": {},
   "outputs": [
    {
     "data": {
      "text/html": [
       "<div>\n",
       "<style scoped>\n",
       "    .dataframe tbody tr th:only-of-type {\n",
       "        vertical-align: middle;\n",
       "    }\n",
       "\n",
       "    .dataframe tbody tr th {\n",
       "        vertical-align: top;\n",
       "    }\n",
       "\n",
       "    .dataframe thead th {\n",
       "        text-align: right;\n",
       "    }\n",
       "</style>\n",
       "<table border=\"1\" class=\"dataframe\">\n",
       "  <thead>\n",
       "    <tr style=\"text-align: right;\">\n",
       "      <th></th>\n",
       "      <th>Club</th>\n",
       "      <th>Matches Played</th>\n",
       "      <th>Win</th>\n",
       "      <th>Loss</th>\n",
       "      <th>Drawn</th>\n",
       "      <th>Goals</th>\n",
       "      <th>Clean Sheets</th>\n",
       "      <th>TeamLaunch</th>\n",
       "      <th>Winners</th>\n",
       "      <th>Runners-up</th>\n",
       "      <th>lastplayed_pl</th>\n",
       "    </tr>\n",
       "  </thead>\n",
       "  <tbody>\n",
       "    <tr>\n",
       "      <th>35</th>\n",
       "      <td>36West Bromwich Albion</td>\n",
       "      <td>494</td>\n",
       "      <td>117</td>\n",
       "      <td>238</td>\n",
       "      <td>139</td>\n",
       "      <td>510</td>\n",
       "      <td>107</td>\n",
       "      <td>1878</td>\n",
       "      <td>NaN</td>\n",
       "      <td>0</td>\n",
       "      <td>Apr-18</td>\n",
       "    </tr>\n",
       "    <tr>\n",
       "      <th>36</th>\n",
       "      <td>37West Ham United</td>\n",
       "      <td>1025</td>\n",
       "      <td>343</td>\n",
       "      <td>423</td>\n",
       "      <td>259</td>\n",
       "      <td>1262</td>\n",
       "      <td>266</td>\n",
       "      <td>1895</td>\n",
       "      <td>NaN</td>\n",
       "      <td>0</td>\n",
       "      <td>Apr-23</td>\n",
       "    </tr>\n",
       "    <tr>\n",
       "      <th>37</th>\n",
       "      <td>38Wigan Athletic</td>\n",
       "      <td>304</td>\n",
       "      <td>85</td>\n",
       "      <td>143</td>\n",
       "      <td>76</td>\n",
       "      <td>316</td>\n",
       "      <td>73</td>\n",
       "      <td>1932</td>\n",
       "      <td>NaN</td>\n",
       "      <td>0</td>\n",
       "      <td>Apr-13</td>\n",
       "    </tr>\n",
       "    <tr>\n",
       "      <th>38</th>\n",
       "      <td>39Wolverhampton Wanderers</td>\n",
       "      <td>334</td>\n",
       "      <td>98</td>\n",
       "      <td>151</td>\n",
       "      <td>85</td>\n",
       "      <td>353</td>\n",
       "      <td>75</td>\n",
       "      <td>1877</td>\n",
       "      <td>0.0</td>\n",
       "      <td>0</td>\n",
       "      <td>Apr-23</td>\n",
       "    </tr>\n",
       "    <tr>\n",
       "      <th>39</th>\n",
       "      <td>40Portsmouth</td>\n",
       "      <td>266</td>\n",
       "      <td>79</td>\n",
       "      <td>122</td>\n",
       "      <td>65</td>\n",
       "      <td>292</td>\n",
       "      <td>61</td>\n",
       "      <td>April 1898</td>\n",
       "      <td>NaN</td>\n",
       "      <td>NaN</td>\n",
       "      <td>Apr-10</td>\n",
       "    </tr>\n",
       "  </tbody>\n",
       "</table>\n",
       "</div>"
      ],
      "text/plain": [
       "                         Club  Matches Played  Win  Loss  Drawn  Goals  \\\n",
       "35     36West Bromwich Albion             494  117   238    139    510   \n",
       "36          37West Ham United            1025  343   423    259   1262   \n",
       "37           38Wigan Athletic             304   85   143     76    316   \n",
       "38  39Wolverhampton Wanderers             334   98   151     85    353   \n",
       "39               40Portsmouth             266   79   122     65    292   \n",
       "\n",
       "    Clean Sheets  TeamLaunch  Winners Runners-up lastplayed_pl  \n",
       "35           107        1878      NaN          0        Apr-18  \n",
       "36           266        1895      NaN          0        Apr-23  \n",
       "37            73        1932      NaN          0        Apr-13  \n",
       "38            75        1877      0.0          0        Apr-23  \n",
       "39            61  April 1898      NaN        NaN        Apr-10  "
      ]
     },
     "execution_count": 7,
     "metadata": {},
     "output_type": "execute_result"
    }
   ],
   "source": [
    "# Let's see the last 5 rows \n",
    "df.tail()"
   ]
  },
  {
   "cell_type": "markdown",
   "id": "bf681e37",
   "metadata": {},
   "source": [
    "Here, We clearly observe that there are some inconsistencies in the Teamlaunch column. Some clubs are mentioning only Year where few of them mentioned both month and year. This may cause error in the analysis. And Winners column also has null values. We need to deal with them!!"
   ]
  },
  {
   "cell_type": "code",
   "execution_count": 8,
   "id": "4c03bb3a",
   "metadata": {},
   "outputs": [
    {
     "data": {
      "text/plain": [
       "(40, 11)"
      ]
     },
     "execution_count": 8,
     "metadata": {},
     "output_type": "execute_result"
    }
   ],
   "source": [
    "# Let us check the size of the dataset\n",
    "df.shape"
   ]
  },
  {
   "cell_type": "markdown",
   "id": "1bfe6cdb",
   "metadata": {},
   "source": [
    "Hey!! There are 40 rows and 11 columns in the dataset"
   ]
  },
  {
   "cell_type": "code",
   "execution_count": 9,
   "id": "8fdc59a6",
   "metadata": {},
   "outputs": [
    {
     "name": "stdout",
     "output_type": "stream",
     "text": [
      "<class 'pandas.core.frame.DataFrame'>\n",
      "RangeIndex: 40 entries, 0 to 39\n",
      "Data columns (total 11 columns):\n",
      " #   Column          Non-Null Count  Dtype  \n",
      "---  ------          --------------  -----  \n",
      " 0   Club            40 non-null     object \n",
      " 1   Matches Played  40 non-null     int64  \n",
      " 2   Win             40 non-null     int64  \n",
      " 3   Loss            40 non-null     int64  \n",
      " 4   Drawn           40 non-null     int64  \n",
      " 5   Goals           40 non-null     int64  \n",
      " 6   Clean Sheets    40 non-null     int64  \n",
      " 7   TeamLaunch      40 non-null     object \n",
      " 8   Winners         25 non-null     float64\n",
      " 9   Runners-up      22 non-null     object \n",
      " 10  lastplayed_pl   40 non-null     object \n",
      "dtypes: float64(1), int64(6), object(4)\n",
      "memory usage: 3.6+ KB\n"
     ]
    }
   ],
   "source": [
    "# Let us see a detailed information on our dataset including the values in the columns\n",
    "df.info()"
   ]
  },
  {
   "cell_type": "markdown",
   "id": "497b3f5c",
   "metadata": {},
   "source": [
    "Thats's good to see that most of the columns have 40 non-null values. However, Winners and Runners-up columns are having only 25 and 22 non-null values which means there are few null values. And also, the data type of Runners-up is object which is not numeric. This makes it difficult to perform analysis on these values. So, we need to convert the data type."
   ]
  },
  {
   "cell_type": "markdown",
   "id": "5b8dc046",
   "metadata": {},
   "source": [
    "### Data Cleaning"
   ]
  },
  {
   "cell_type": "markdown",
   "id": "11217bd6",
   "metadata": {},
   "source": [
    "As we have seen a lot of inconsistensies in the data, It is now time to clean it!"
   ]
  },
  {
   "cell_type": "code",
   "execution_count": 11,
   "id": "28bf166f",
   "metadata": {},
   "outputs": [
    {
     "data": {
      "text/html": [
       "<div>\n",
       "<style scoped>\n",
       "    .dataframe tbody tr th:only-of-type {\n",
       "        vertical-align: middle;\n",
       "    }\n",
       "\n",
       "    .dataframe tbody tr th {\n",
       "        vertical-align: top;\n",
       "    }\n",
       "\n",
       "    .dataframe thead th {\n",
       "        text-align: right;\n",
       "    }\n",
       "</style>\n",
       "<table border=\"1\" class=\"dataframe\">\n",
       "  <thead>\n",
       "    <tr style=\"text-align: right;\">\n",
       "      <th></th>\n",
       "      <th>Club</th>\n",
       "      <th>Matches Played</th>\n",
       "      <th>Win</th>\n",
       "      <th>Loss</th>\n",
       "      <th>Drawn</th>\n",
       "      <th>Goals</th>\n",
       "      <th>Clean Sheets</th>\n",
       "      <th>TeamLaunch</th>\n",
       "      <th>Winners</th>\n",
       "      <th>Runners-up</th>\n",
       "      <th>lastplayed_pl</th>\n",
       "    </tr>\n",
       "  </thead>\n",
       "  <tbody>\n",
       "    <tr>\n",
       "      <th>0</th>\n",
       "      <td>Arsenal</td>\n",
       "      <td>1182</td>\n",
       "      <td>642</td>\n",
       "      <td>252</td>\n",
       "      <td>288</td>\n",
       "      <td>2089</td>\n",
       "      <td>448</td>\n",
       "      <td>1886</td>\n",
       "      <td>3.0</td>\n",
       "      <td>6</td>\n",
       "      <td>Apr-23</td>\n",
       "    </tr>\n",
       "    <tr>\n",
       "      <th>1</th>\n",
       "      <td>Aston Villa</td>\n",
       "      <td>1062</td>\n",
       "      <td>368</td>\n",
       "      <td>399</td>\n",
       "      <td>295</td>\n",
       "      <td>1306</td>\n",
       "      <td>311</td>\n",
       "      <td>1874</td>\n",
       "      <td>0.0</td>\n",
       "      <td>1</td>\n",
       "      <td>Apr-23</td>\n",
       "    </tr>\n",
       "    <tr>\n",
       "      <th>2</th>\n",
       "      <td>Birmingham City</td>\n",
       "      <td>266</td>\n",
       "      <td>73</td>\n",
       "      <td>111</td>\n",
       "      <td>82</td>\n",
       "      <td>273</td>\n",
       "      <td>66</td>\n",
       "      <td>1875</td>\n",
       "      <td>0.0</td>\n",
       "      <td>NaN</td>\n",
       "      <td>May-11</td>\n",
       "    </tr>\n",
       "    <tr>\n",
       "      <th>3</th>\n",
       "      <td>Blackburn Rovers</td>\n",
       "      <td>696</td>\n",
       "      <td>262</td>\n",
       "      <td>250</td>\n",
       "      <td>184</td>\n",
       "      <td>927</td>\n",
       "      <td>210</td>\n",
       "      <td>1875</td>\n",
       "      <td>1.0</td>\n",
       "      <td>1</td>\n",
       "      <td>May-12</td>\n",
       "    </tr>\n",
       "    <tr>\n",
       "      <th>4</th>\n",
       "      <td>Bolton Wanderers</td>\n",
       "      <td>494</td>\n",
       "      <td>149</td>\n",
       "      <td>217</td>\n",
       "      <td>128</td>\n",
       "      <td>575</td>\n",
       "      <td>108</td>\n",
       "      <td>1874</td>\n",
       "      <td>0.0</td>\n",
       "      <td>0</td>\n",
       "      <td>May-12</td>\n",
       "    </tr>\n",
       "  </tbody>\n",
       "</table>\n",
       "</div>"
      ],
      "text/plain": [
       "               Club  Matches Played  Win  Loss  Drawn  Goals  Clean Sheets  \\\n",
       "0           Arsenal            1182  642   252    288   2089           448   \n",
       "1       Aston Villa            1062  368   399    295   1306           311   \n",
       "2   Birmingham City             266   73   111     82    273            66   \n",
       "3  Blackburn Rovers             696  262   250    184    927           210   \n",
       "4  Bolton Wanderers             494  149   217    128    575           108   \n",
       "\n",
       "  TeamLaunch  Winners Runners-up lastplayed_pl  \n",
       "0       1886      3.0          6        Apr-23  \n",
       "1       1874      0.0          1        Apr-23  \n",
       "2       1875      0.0        NaN        May-11  \n",
       "3       1875      1.0          1        May-12  \n",
       "4       1874      0.0          0        May-12  "
      ]
     },
     "execution_count": 11,
     "metadata": {},
     "output_type": "execute_result"
    }
   ],
   "source": [
    "# Let's start with Club column\n",
    "\n",
    "df['Club'] = df['Club'].str.replace('\\d+','',regex = True)\n",
    "df.head()\n",
    "\n",
    "#In this code, '\\d+' is a regular expression pattern that matches one or more digits at the start of the string. \n",
    "#The str.replace() method replaces this pattern with an empty string \n",
    "#effectively removing the numbers from the front of each team name in the \"Club\" column."
   ]
  },
  {
   "cell_type": "markdown",
   "id": "2b421f44",
   "metadata": {},
   "source": [
    "Now, Club column is cleaned and ready for further analysis"
   ]
  },
  {
   "cell_type": "code",
   "execution_count": 13,
   "id": "fe505769",
   "metadata": {},
   "outputs": [
    {
     "data": {
      "text/plain": [
       "Winners\n",
       "0.0     18\n",
       "1.0      3\n",
       "3.0      1\n",
       "5.0      1\n",
       "6.0      1\n",
       "13.0     1\n",
       "Name: count, dtype: int64"
      ]
     },
     "execution_count": 13,
     "metadata": {},
     "output_type": "execute_result"
    }
   ],
   "source": [
    "# Let's check the winners and Runners-up column\n",
    "\n",
    "df['Winners'].value_counts()"
   ]
  },
  {
   "cell_type": "markdown",
   "id": "d399298e",
   "metadata": {},
   "source": [
    "**Winners column**\n",
    "\n",
    "If we observe the winners column there are 18 clubs who never won any tournament, 3 clubs won one tournament, 1 club won three tournaments, 1 club won five tournaments, 1 club won six tournaments and another club won totally thirteen tournaments.\n",
    "This dataset contains information of 30 tournaments and If we count, all the values are equal to 30 which means the null value in the column must be 0. That means, the clubs with null values won no tournaments in Premier League.\n"
   ]
  },
  {
   "cell_type": "code",
   "execution_count": 14,
   "id": "848c67ee",
   "metadata": {
    "scrolled": true
   },
   "outputs": [
    {
     "data": {
      "text/plain": [
       "Runners-up\n",
       "0    10\n",
       "1     3\n",
       "-     3\n",
       "6     1\n",
       "4     1\n",
       "5     1\n",
       "3     1\n",
       "7     1\n",
       "2     1\n",
       "Name: count, dtype: int64"
      ]
     },
     "execution_count": 14,
     "metadata": {},
     "output_type": "execute_result"
    }
   ],
   "source": [
    "df['Runners-up'].value_counts()"
   ]
  },
  {
   "cell_type": "markdown",
   "id": "3cbb77f3",
   "metadata": {},
   "source": [
    "**Runners-up column**\n",
    "\n",
    "\n",
    "If we observe the values in runners-up column, It contains \"-\" as a value. Here, 3 clubs finished as runners-up 1 time, another 6 times, another 4 times, another 5 times, another 3 times, another 7 times and another 2 times. similar to winners, This column also contains the data of 30 tournaments. That concludes that all the null values as well as \"-\" values must be 0."
   ]
  },
  {
   "cell_type": "code",
   "execution_count": 15,
   "id": "fc9d6a09",
   "metadata": {
    "scrolled": true
   },
   "outputs": [
    {
     "name": "stdout",
     "output_type": "stream",
     "text": [
      "<class 'pandas.core.frame.DataFrame'>\n",
      "RangeIndex: 40 entries, 0 to 39\n",
      "Data columns (total 11 columns):\n",
      " #   Column          Non-Null Count  Dtype  \n",
      "---  ------          --------------  -----  \n",
      " 0   Club            40 non-null     object \n",
      " 1   Matches Played  40 non-null     int64  \n",
      " 2   Win             40 non-null     int64  \n",
      " 3   Loss            40 non-null     int64  \n",
      " 4   Drawn           40 non-null     int64  \n",
      " 5   Goals           40 non-null     int64  \n",
      " 6   Clean Sheets    40 non-null     int64  \n",
      " 7   TeamLaunch      40 non-null     object \n",
      " 8   Winners         40 non-null     float64\n",
      " 9   Runners-up      40 non-null     Int64  \n",
      " 10  lastplayed_pl   40 non-null     object \n",
      "dtypes: Int64(1), float64(1), int64(6), object(3)\n",
      "memory usage: 3.6+ KB\n"
     ]
    }
   ],
   "source": [
    "# filling the null columns with zero\n",
    "df['Winners'].fillna(0, inplace=True)\n",
    "\n",
    "# .fillna(0, inplace=True) This is a method in pandas that is used to fill missing (null) values in a Series or DataFrame. \n",
    "# In this case, it is applied to the \"Winners\" column of the DataFrame df to fill any null values with the value 0.\n",
    "\n",
    "# Check for null values in the \"Winners\" column after data cleaning\n",
    "df[\"Winners\"].isnull().any()\n",
    "\n",
    "df['Runners-up'].fillna(0,inplace=True)\n",
    "df['Runners-up'].replace('-',0,inplace=True)\n",
    "\n",
    "# Also we have seen it earlier that 'Runners-up' column is \"Object\" type let us convert it into int type\n",
    "df['Runners-up'] = pd.to_numeric(df['Runners-up'], errors='coerce')\n",
    "df['Runners-up'] = df['Runners-up'].astype('Int64')\n",
    "\n",
    "# pd.to_numeric() function to attempt to convert the \"Runners-up\" column to a numeric data type. \n",
    "#The errors='coerce' argument tells the function to replace any values that cannot be converted to a number with NaN.\n",
    "\n",
    "#The .astype() method to convert the \"Runners-up\" column to an \"Int64\" data type. \n",
    "df.info()"
   ]
  },
  {
   "cell_type": "code",
   "execution_count": 16,
   "id": "3be268ed",
   "metadata": {},
   "outputs": [],
   "source": [
    "# Now, Let's clean the TeamLaunch coloumn\n",
    "\n",
    "# convert the column to datetime format\n",
    "df['TeamLaunch'] = pd.to_datetime(df['TeamLaunch'],format= 'mixed',errors='coerce')\n",
    "\n",
    "# convert the column to YYYY format\n",
    "df['TeamLaunch'] = df['TeamLaunch'].dt.strftime('%Y')"
   ]
  },
  {
   "cell_type": "markdown",
   "id": "331f7b3a",
   "metadata": {},
   "source": [
    "The first line of code converts the column 'column_name' to datetime format using the pandas to_datetime() function. The 'errors' parameter is set to 'coerce', which means that any invalid dates will be set to NaT (Not a Time) in the resulting datetime column.\n",
    "\n",
    "The second line of code uses the dt.strftime() method to convert the datetime column to a string column with only the year values. '%Y' is the format code for the year. This line of code will create a new column 'column_name' in the format YYYY."
   ]
  },
  {
   "cell_type": "code",
   "execution_count": 24,
   "id": "a6859bb6",
   "metadata": {},
   "outputs": [
    {
     "data": {
      "text/plain": [
       "TeamLaunch\n",
       "1878    4\n",
       "1886    2\n",
       "1905    2\n",
       "1874    2\n",
       "1892    2\n",
       "1879    2\n",
       "1884    2\n",
       "1882    2\n",
       "1875    2\n",
       "1895    1\n",
       "1881    1\n",
       "1889    1\n",
       "1932    1\n",
       "1912    1\n",
       "1877    1\n",
       "1863    1\n",
       "1885    1\n",
       "1867    1\n",
       "1894    1\n",
       "1904    1\n",
       "1865    1\n",
       "1902    1\n",
       "1876    1\n",
       "1919    1\n",
       "1861    1\n",
       "1883    1\n",
       "1901    1\n",
       "1899    1\n",
       "1898    1\n",
       "Name: count, dtype: int64"
      ]
     },
     "execution_count": 24,
     "metadata": {},
     "output_type": "execute_result"
    }
   ],
   "source": [
    "# Let's check the Teamlaunch column after datacleaning\n",
    "df['TeamLaunch'].value_counts()"
   ]
  },
  {
   "cell_type": "code",
   "execution_count": 17,
   "id": "25dc5168",
   "metadata": {},
   "outputs": [],
   "source": [
    "# Finally, Let us clean the lastplayed_pl column since some entries are in MM-YYYY format instead of YYYY format.\n",
    "#This forms inconsistensies in the data\n",
    "\n",
    "# Let us extract only the year in lastplayed_pl column\n",
    "df['lastplayed_pl'] = pd.to_datetime(df['lastplayed_pl'], format='%b-%y',errors='coerce')\n",
    "\n",
    "#The \"format\" parameter specifies the expected format of the input string. \n",
    "#In this case '%b-%y' which indicates a three-letter month abbreviation followed by a two-digit year (e.g. \"Mar-21\"). \n",
    "\n",
    "df['lastplayed_pl'] = df['lastplayed_pl'].dt.strftime('%Y')\n",
    "\n",
    "# convert the column to YYYY format\n"
   ]
  },
  {
   "cell_type": "code",
   "execution_count": 22,
   "id": "0a4695bb",
   "metadata": {},
   "outputs": [
    {
     "data": {
      "text/plain": [
       "0     2023\n",
       "1     2023\n",
       "2     2011\n",
       "3     2012\n",
       "4     2012\n",
       "5     2023\n",
       "6     2023\n",
       "7     2022\n",
       "8     2007\n",
       "9     2023\n",
       "10    2001\n",
       "11    2023\n",
       "12    2008\n",
       "13    2023\n",
       "14    2023\n",
       "15    2002\n",
       "16    2023\n",
       "17    2023\n",
       "18    2023\n",
       "19    2023\n",
       "20    2023\n",
       "21    2017\n",
       "22    2023\n",
       "23    2022\n",
       "24    2023\n",
       "25    2017\n",
       "26    2015\n",
       "27    2021\n",
       "28    2000\n",
       "29    2023\n",
       "30    2018\n",
       "31    2017\n",
       "32    2018\n",
       "33    2023\n",
       "34    2022\n",
       "35    2018\n",
       "36    2023\n",
       "37    2013\n",
       "38    2023\n",
       "39    2010\n",
       "Name: lastplayed_pl, dtype: object"
      ]
     },
     "execution_count": 22,
     "metadata": {},
     "output_type": "execute_result"
    }
   ],
   "source": [
    "# Check the Lastplayed column after cleaning\n",
    "df['lastplayed_pl']"
   ]
  },
  {
   "cell_type": "markdown",
   "id": "9d284f0a",
   "metadata": {},
   "source": [
    "### Now we are clear to perform our Data Analysis!!"
   ]
  },
  {
   "cell_type": "code",
   "execution_count": 25,
   "id": "49ceba7c",
   "metadata": {},
   "outputs": [
    {
     "data": {
      "text/html": [
       "<div>\n",
       "<style scoped>\n",
       "    .dataframe tbody tr th:only-of-type {\n",
       "        vertical-align: middle;\n",
       "    }\n",
       "\n",
       "    .dataframe tbody tr th {\n",
       "        vertical-align: top;\n",
       "    }\n",
       "\n",
       "    .dataframe thead th {\n",
       "        text-align: right;\n",
       "    }\n",
       "</style>\n",
       "<table border=\"1\" class=\"dataframe\">\n",
       "  <thead>\n",
       "    <tr style=\"text-align: right;\">\n",
       "      <th></th>\n",
       "      <th>Matches Played</th>\n",
       "      <th>Win</th>\n",
       "      <th>Loss</th>\n",
       "      <th>Drawn</th>\n",
       "      <th>Goals</th>\n",
       "      <th>Clean Sheets</th>\n",
       "      <th>Winners</th>\n",
       "      <th>Runners-up</th>\n",
       "    </tr>\n",
       "  </thead>\n",
       "  <tbody>\n",
       "    <tr>\n",
       "      <th>count</th>\n",
       "      <td>40.000000</td>\n",
       "      <td>40.000000</td>\n",
       "      <td>40.000000</td>\n",
       "      <td>40.000000</td>\n",
       "      <td>40.000000</td>\n",
       "      <td>40.000000</td>\n",
       "      <td>40.000000</td>\n",
       "      <td>40.0</td>\n",
       "    </tr>\n",
       "    <tr>\n",
       "      <th>mean</th>\n",
       "      <td>573.750000</td>\n",
       "      <td>215.450000</td>\n",
       "      <td>210.425000</td>\n",
       "      <td>147.875000</td>\n",
       "      <td>769.000000</td>\n",
       "      <td>167.925000</td>\n",
       "      <td>0.750000</td>\n",
       "      <td>0.75</td>\n",
       "    </tr>\n",
       "    <tr>\n",
       "      <th>std</th>\n",
       "      <td>358.986519</td>\n",
       "      <td>194.164608</td>\n",
       "      <td>102.132364</td>\n",
       "      <td>88.873632</td>\n",
       "      <td>627.746478</td>\n",
       "      <td>135.561584</td>\n",
       "      <td>2.372384</td>\n",
       "      <td>1.750458</td>\n",
       "    </tr>\n",
       "    <tr>\n",
       "      <th>min</th>\n",
       "      <td>190.000000</td>\n",
       "      <td>41.000000</td>\n",
       "      <td>85.000000</td>\n",
       "      <td>48.000000</td>\n",
       "      <td>181.000000</td>\n",
       "      <td>45.000000</td>\n",
       "      <td>0.000000</td>\n",
       "      <td>0.0</td>\n",
       "    </tr>\n",
       "    <tr>\n",
       "      <th>25%</th>\n",
       "      <td>275.000000</td>\n",
       "      <td>80.500000</td>\n",
       "      <td>127.500000</td>\n",
       "      <td>71.500000</td>\n",
       "      <td>304.500000</td>\n",
       "      <td>66.000000</td>\n",
       "      <td>0.000000</td>\n",
       "      <td>0.0</td>\n",
       "    </tr>\n",
       "    <tr>\n",
       "      <th>50%</th>\n",
       "      <td>443.000000</td>\n",
       "      <td>116.500000</td>\n",
       "      <td>193.500000</td>\n",
       "      <td>120.000000</td>\n",
       "      <td>462.000000</td>\n",
       "      <td>104.000000</td>\n",
       "      <td>0.000000</td>\n",
       "      <td>0.0</td>\n",
       "    </tr>\n",
       "    <tr>\n",
       "      <th>75%</th>\n",
       "      <td>934.750000</td>\n",
       "      <td>295.750000</td>\n",
       "      <td>263.000000</td>\n",
       "      <td>222.000000</td>\n",
       "      <td>1142.750000</td>\n",
       "      <td>244.250000</td>\n",
       "      <td>0.000000</td>\n",
       "      <td>0.0</td>\n",
       "    </tr>\n",
       "    <tr>\n",
       "      <th>max</th>\n",
       "      <td>1182.000000</td>\n",
       "      <td>720.000000</td>\n",
       "      <td>429.000000</td>\n",
       "      <td>329.000000</td>\n",
       "      <td>2229.000000</td>\n",
       "      <td>491.000000</td>\n",
       "      <td>13.000000</td>\n",
       "      <td>7.0</td>\n",
       "    </tr>\n",
       "  </tbody>\n",
       "</table>\n",
       "</div>"
      ],
      "text/plain": [
       "       Matches Played         Win        Loss       Drawn        Goals  \\\n",
       "count       40.000000   40.000000   40.000000   40.000000    40.000000   \n",
       "mean       573.750000  215.450000  210.425000  147.875000   769.000000   \n",
       "std        358.986519  194.164608  102.132364   88.873632   627.746478   \n",
       "min        190.000000   41.000000   85.000000   48.000000   181.000000   \n",
       "25%        275.000000   80.500000  127.500000   71.500000   304.500000   \n",
       "50%        443.000000  116.500000  193.500000  120.000000   462.000000   \n",
       "75%        934.750000  295.750000  263.000000  222.000000  1142.750000   \n",
       "max       1182.000000  720.000000  429.000000  329.000000  2229.000000   \n",
       "\n",
       "       Clean Sheets    Winners  Runners-up  \n",
       "count     40.000000  40.000000        40.0  \n",
       "mean     167.925000   0.750000        0.75  \n",
       "std      135.561584   2.372384    1.750458  \n",
       "min       45.000000   0.000000         0.0  \n",
       "25%       66.000000   0.000000         0.0  \n",
       "50%      104.000000   0.000000         0.0  \n",
       "75%      244.250000   0.000000         0.0  \n",
       "max      491.000000  13.000000         7.0  "
      ]
     },
     "execution_count": 25,
     "metadata": {},
     "output_type": "execute_result"
    }
   ],
   "source": [
    "# We shall start with our Simple yet Powerful Descriptive Analysis\n",
    "df.describe()"
   ]
  },
  {
   "cell_type": "markdown",
   "id": "bd2f1769",
   "metadata": {},
   "source": [
    "If you observe the mean value of matches played and the median value, Mean is greater than Median(573 > 443) which says that the it is positively skewed. That means that there is a lot of variation in the matches played by the clubs. The same applies to Win, Loss, Goals of the clubs. And also the Maximum value of goals and Average value are too much variated.\n",
    "\n",
    "And also, If you observe the 1st and 3rd quartile values of Winners and Runners-up value, It is clearly evident that most of the clubs have not been winners or the runners-up of the tournament even once. This is also justified by the results we have seen earlier while cleaning the data.\n",
    "\n",
    "But, We have observed that there are teams who have been the winners 13 times and Runners-up 7 times which is phenomenal. I'm curious to find out who are those!"
   ]
  },
  {
   "cell_type": "code",
   "execution_count": 29,
   "id": "6942a65c",
   "metadata": {},
   "outputs": [
    {
     "data": {
      "text/html": [
       "<div>\n",
       "<style scoped>\n",
       "    .dataframe tbody tr th:only-of-type {\n",
       "        vertical-align: middle;\n",
       "    }\n",
       "\n",
       "    .dataframe tbody tr th {\n",
       "        vertical-align: top;\n",
       "    }\n",
       "\n",
       "    .dataframe thead th {\n",
       "        text-align: right;\n",
       "    }\n",
       "</style>\n",
       "<table border=\"1\" class=\"dataframe\">\n",
       "  <thead>\n",
       "    <tr style=\"text-align: right;\">\n",
       "      <th></th>\n",
       "      <th>Club</th>\n",
       "      <th>Matches Played</th>\n",
       "      <th>Win</th>\n",
       "      <th>Loss</th>\n",
       "      <th>Drawn</th>\n",
       "      <th>Goals</th>\n",
       "      <th>Clean Sheets</th>\n",
       "      <th>TeamLaunch</th>\n",
       "      <th>Winners</th>\n",
       "      <th>Runners-up</th>\n",
       "      <th>lastplayed_pl</th>\n",
       "    </tr>\n",
       "  </thead>\n",
       "  <tbody>\n",
       "    <tr>\n",
       "      <th>20</th>\n",
       "      <td>Manchester United</td>\n",
       "      <td>1181</td>\n",
       "      <td>720</td>\n",
       "      <td>199</td>\n",
       "      <td>262</td>\n",
       "      <td>2229</td>\n",
       "      <td>491</td>\n",
       "      <td>1878</td>\n",
       "      <td>13.0</td>\n",
       "      <td>7</td>\n",
       "      <td>2023</td>\n",
       "    </tr>\n",
       "  </tbody>\n",
       "</table>\n",
       "</div>"
      ],
      "text/plain": [
       "                 Club  Matches Played  Win  Loss  Drawn  Goals  Clean Sheets  \\\n",
       "20  Manchester United            1181  720   199    262   2229           491   \n",
       "\n",
       "   TeamLaunch  Winners  Runners-up lastplayed_pl  \n",
       "20       1878     13.0           7          2023  "
      ]
     },
     "execution_count": 29,
     "metadata": {},
     "output_type": "execute_result"
    }
   ],
   "source": [
    "# Team that has won Premier League 13 times and finished as Runners-up 7 times\n",
    "df[df['Winners']==13]"
   ]
  },
  {
   "cell_type": "markdown",
   "id": "b0393516",
   "metadata": {},
   "source": [
    "**Here we go!!** The club **Manchester United** have been winners for 13 times and Runners-up for 7 times."
   ]
  },
  {
   "cell_type": "markdown",
   "id": "ba28a09b",
   "metadata": {},
   "source": [
    "## Let's dive deep into the analysis, Shall we?"
   ]
  },
  {
   "cell_type": "code",
   "execution_count": 30,
   "id": "d7bf317f",
   "metadata": {},
   "outputs": [],
   "source": [
    "import matplotlib.pyplot as plt\n",
    "\n",
    "%matplotlib inline"
   ]
  },
  {
   "cell_type": "code",
   "execution_count": 33,
   "id": "0efacb07",
   "metadata": {},
   "outputs": [
    {
     "data": {
      "text/plain": [
       "Text(0.5, 1.0, 'Histogram of Matches Played')"
      ]
     },
     "execution_count": 33,
     "metadata": {},
     "output_type": "execute_result"
    },
    {
     "data": {
      "image/png": "[encoded data removed]",
      "text/plain": [
       "<Figure size 640x480 with 1 Axes>"
      ]
     },
     "metadata": {},
     "output_type": "display_data"
    }
   ],
   "source": [
    "# Let us visualize each column\n",
    "\n",
    "# First let us start with Matches Played column\n",
    "# plot histogram\n",
    "plt.hist(df['Matches Played'],color='darkblue')\n",
    "\n",
    "# Add labels and title\n",
    "plt.xlabel('No. of Matches Played')\n",
    "plt.ylabel('No. of Teams')\n",
    "plt.title('Histogram of Matches Played')"
   ]
  },
  {
   "cell_type": "markdown",
   "id": "3186f986",
   "metadata": {},
   "source": [
    "So, We clearly see that most of the clubs are inexperienced, that is, they played less than 400 matches in the Premier League. Well, However, There are few other clubs who are well experienced and have played more than 900 matches in the league.\n",
    "\n",
    "But, However, It is important to consider that the some of the clubs are already been taken by the competitors. The firm is willing to invest in the club irrespective of the experience of the club because they want to invest in potential clubs who can perform well in future tournaments."
   ]
  },
  {
   "cell_type": "code",
   "execution_count": 31,
   "id": "d721423e",
   "metadata": {},
   "outputs": [
    {
     "data": {
      "text/html": [
       "<div>\n",
       "<style scoped>\n",
       "    .dataframe tbody tr th:only-of-type {\n",
       "        vertical-align: middle;\n",
       "    }\n",
       "\n",
       "    .dataframe tbody tr th {\n",
       "        vertical-align: top;\n",
       "    }\n",
       "\n",
       "    .dataframe thead th {\n",
       "        text-align: right;\n",
       "    }\n",
       "</style>\n",
       "<table border=\"1\" class=\"dataframe\">\n",
       "  <thead>\n",
       "    <tr style=\"text-align: right;\">\n",
       "      <th></th>\n",
       "      <th>Club</th>\n",
       "      <th>Matches Played</th>\n",
       "      <th>Win</th>\n",
       "      <th>Loss</th>\n",
       "      <th>Drawn</th>\n",
       "      <th>Goals</th>\n",
       "      <th>Clean Sheets</th>\n",
       "      <th>TeamLaunch</th>\n",
       "      <th>Winners</th>\n",
       "      <th>Runners-up</th>\n",
       "      <th>lastplayed_pl</th>\n",
       "    </tr>\n",
       "  </thead>\n",
       "  <tbody>\n",
       "    <tr>\n",
       "      <th>0</th>\n",
       "      <td>Birmingham City</td>\n",
       "      <td>266</td>\n",
       "      <td>73</td>\n",
       "      <td>111</td>\n",
       "      <td>82</td>\n",
       "      <td>273</td>\n",
       "      <td>66</td>\n",
       "      <td>1875</td>\n",
       "      <td>0.0</td>\n",
       "      <td>0</td>\n",
       "      <td>2011</td>\n",
       "    </tr>\n",
       "    <tr>\n",
       "      <th>1</th>\n",
       "      <td>Blackburn Rovers</td>\n",
       "      <td>696</td>\n",
       "      <td>262</td>\n",
       "      <td>250</td>\n",
       "      <td>184</td>\n",
       "      <td>927</td>\n",
       "      <td>210</td>\n",
       "      <td>1875</td>\n",
       "      <td>1.0</td>\n",
       "      <td>1</td>\n",
       "      <td>2012</td>\n",
       "    </tr>\n",
       "    <tr>\n",
       "      <th>2</th>\n",
       "      <td>Bolton Wanderers</td>\n",
       "      <td>494</td>\n",
       "      <td>149</td>\n",
       "      <td>217</td>\n",
       "      <td>128</td>\n",
       "      <td>575</td>\n",
       "      <td>108</td>\n",
       "      <td>1874</td>\n",
       "      <td>0.0</td>\n",
       "      <td>0</td>\n",
       "      <td>2012</td>\n",
       "    </tr>\n",
       "    <tr>\n",
       "      <th>3</th>\n",
       "      <td>Bournemouth</td>\n",
       "      <td>219</td>\n",
       "      <td>64</td>\n",
       "      <td>107</td>\n",
       "      <td>48</td>\n",
       "      <td>269</td>\n",
       "      <td>45</td>\n",
       "      <td>1899</td>\n",
       "      <td>0.0</td>\n",
       "      <td>0</td>\n",
       "      <td>2023</td>\n",
       "    </tr>\n",
       "    <tr>\n",
       "      <th>4</th>\n",
       "      <td>Brighton &amp; Hove Albion</td>\n",
       "      <td>218</td>\n",
       "      <td>61</td>\n",
       "      <td>85</td>\n",
       "      <td>72</td>\n",
       "      <td>243</td>\n",
       "      <td>58</td>\n",
       "      <td>1901</td>\n",
       "      <td>0.0</td>\n",
       "      <td>0</td>\n",
       "      <td>2023</td>\n",
       "    </tr>\n",
       "  </tbody>\n",
       "</table>\n",
       "</div>"
      ],
      "text/plain": [
       "                     Club  Matches Played  Win  Loss  Drawn  Goals  \\\n",
       "0         Birmingham City             266   73   111     82    273   \n",
       "1        Blackburn Rovers             696  262   250    184    927   \n",
       "2        Bolton Wanderers             494  149   217    128    575   \n",
       "3             Bournemouth             219   64   107     48    269   \n",
       "4  Brighton & Hove Albion             218   61    85     72    243   \n",
       "\n",
       "   Clean Sheets TeamLaunch  Winners  Runners-up lastplayed_pl  \n",
       "0            66       1875      0.0           0          2011  \n",
       "1           210       1875      1.0           1          2012  \n",
       "2           108       1874      0.0           0          2012  \n",
       "3            45       1899      0.0           0          2023  \n",
       "4            58       1901      0.0           0          2023  "
      ]
     },
     "execution_count": 31,
     "metadata": {},
     "output_type": "execute_result"
    }
   ],
   "source": [
    "# Let's drop the clubs which played more than 900 and reset the index\n",
    "df = df[df['Matches Played'] < 900].reset_index(drop=True)\n",
    "df.head()"
   ]
  },
  {
   "cell_type": "markdown",
   "id": "f6fe7f96",
   "metadata": {},
   "source": [
    "We have dropped the Clubs which have played more than 900 matches and resetted the index for the remaining Clubs in our Dataframe."
   ]
  },
  {
   "cell_type": "code",
   "execution_count": 32,
   "id": "5a90cce3",
   "metadata": {},
   "outputs": [
    {
     "name": "stdout",
     "output_type": "stream",
     "text": [
      "<class 'pandas.core.frame.DataFrame'>\n",
      "RangeIndex: 29 entries, 0 to 28\n",
      "Data columns (total 11 columns):\n",
      " #   Column          Non-Null Count  Dtype  \n",
      "---  ------          --------------  -----  \n",
      " 0   Club            29 non-null     object \n",
      " 1   Matches Played  29 non-null     int64  \n",
      " 2   Win             29 non-null     int64  \n",
      " 3   Loss            29 non-null     int64  \n",
      " 4   Drawn           29 non-null     int64  \n",
      " 5   Goals           29 non-null     int64  \n",
      " 6   Clean Sheets    29 non-null     int64  \n",
      " 7   TeamLaunch      29 non-null     object \n",
      " 8   Winners         29 non-null     float64\n",
      " 9   Runners-up      29 non-null     Int64  \n",
      " 10  lastplayed_pl   29 non-null     object \n",
      "dtypes: Int64(1), float64(1), int64(6), object(3)\n",
      "memory usage: 2.6+ KB\n"
     ]
    }
   ],
   "source": [
    "df.info()"
   ]
  },
  {
   "cell_type": "markdown",
   "id": "4f0074d4",
   "metadata": {},
   "source": [
    "If we want to consider **Win, Loss, Drawn and Clean sheet** columns, we need to make it fair to compare between the clubs since it the number of matches played varies from one club to another.\n",
    "\n",
    "To make it even, we will calculate **Winning rate, Loosing rate, Drawn rate and Clean sheet rate** to use it for further analysis."
   ]
  },
  {
   "cell_type": "code",
   "execution_count": 33,
   "id": "dcfad866",
   "metadata": {},
   "outputs": [
    {
     "data": {
      "text/html": [
       "<div>\n",
       "<style scoped>\n",
       "    .dataframe tbody tr th:only-of-type {\n",
       "        vertical-align: middle;\n",
       "    }\n",
       "\n",
       "    .dataframe tbody tr th {\n",
       "        vertical-align: top;\n",
       "    }\n",
       "\n",
       "    .dataframe thead th {\n",
       "        text-align: right;\n",
       "    }\n",
       "</style>\n",
       "<table border=\"1\" class=\"dataframe\">\n",
       "  <thead>\n",
       "    <tr style=\"text-align: right;\">\n",
       "      <th></th>\n",
       "      <th>Club</th>\n",
       "      <th>Matches Played</th>\n",
       "      <th>Win</th>\n",
       "      <th>Loss</th>\n",
       "      <th>Drawn</th>\n",
       "      <th>Goals</th>\n",
       "      <th>Clean Sheets</th>\n",
       "      <th>TeamLaunch</th>\n",
       "      <th>Winners</th>\n",
       "      <th>Runners-up</th>\n",
       "      <th>lastplayed_pl</th>\n",
       "      <th>Winning Rate</th>\n",
       "      <th>Loss Rate</th>\n",
       "      <th>Drawn Rate</th>\n",
       "      <th>Clean Sheet Rate</th>\n",
       "      <th>Avg Goals Per Match</th>\n",
       "    </tr>\n",
       "  </thead>\n",
       "  <tbody>\n",
       "    <tr>\n",
       "      <th>0</th>\n",
       "      <td>Birmingham City</td>\n",
       "      <td>266</td>\n",
       "      <td>73</td>\n",
       "      <td>111</td>\n",
       "      <td>82</td>\n",
       "      <td>273</td>\n",
       "      <td>66</td>\n",
       "      <td>1875</td>\n",
       "      <td>0.0</td>\n",
       "      <td>0</td>\n",
       "      <td>2011</td>\n",
       "      <td>27.443609</td>\n",
       "      <td>41.729323</td>\n",
       "      <td>30.827068</td>\n",
       "      <td>24.812030</td>\n",
       "      <td>1.0</td>\n",
       "    </tr>\n",
       "    <tr>\n",
       "      <th>1</th>\n",
       "      <td>Blackburn Rovers</td>\n",
       "      <td>696</td>\n",
       "      <td>262</td>\n",
       "      <td>250</td>\n",
       "      <td>184</td>\n",
       "      <td>927</td>\n",
       "      <td>210</td>\n",
       "      <td>1875</td>\n",
       "      <td>1.0</td>\n",
       "      <td>1</td>\n",
       "      <td>2012</td>\n",
       "      <td>37.643678</td>\n",
       "      <td>35.919540</td>\n",
       "      <td>26.436782</td>\n",
       "      <td>30.172414</td>\n",
       "      <td>1.0</td>\n",
       "    </tr>\n",
       "    <tr>\n",
       "      <th>2</th>\n",
       "      <td>Bolton Wanderers</td>\n",
       "      <td>494</td>\n",
       "      <td>149</td>\n",
       "      <td>217</td>\n",
       "      <td>128</td>\n",
       "      <td>575</td>\n",
       "      <td>108</td>\n",
       "      <td>1874</td>\n",
       "      <td>0.0</td>\n",
       "      <td>0</td>\n",
       "      <td>2012</td>\n",
       "      <td>30.161943</td>\n",
       "      <td>43.927126</td>\n",
       "      <td>25.910931</td>\n",
       "      <td>21.862348</td>\n",
       "      <td>1.0</td>\n",
       "    </tr>\n",
       "    <tr>\n",
       "      <th>3</th>\n",
       "      <td>Bournemouth</td>\n",
       "      <td>219</td>\n",
       "      <td>64</td>\n",
       "      <td>107</td>\n",
       "      <td>48</td>\n",
       "      <td>269</td>\n",
       "      <td>45</td>\n",
       "      <td>1899</td>\n",
       "      <td>0.0</td>\n",
       "      <td>0</td>\n",
       "      <td>2023</td>\n",
       "      <td>29.223744</td>\n",
       "      <td>48.858447</td>\n",
       "      <td>21.917808</td>\n",
       "      <td>20.547945</td>\n",
       "      <td>1.0</td>\n",
       "    </tr>\n",
       "    <tr>\n",
       "      <th>4</th>\n",
       "      <td>Brighton &amp; Hove Albion</td>\n",
       "      <td>218</td>\n",
       "      <td>61</td>\n",
       "      <td>85</td>\n",
       "      <td>72</td>\n",
       "      <td>243</td>\n",
       "      <td>58</td>\n",
       "      <td>1901</td>\n",
       "      <td>0.0</td>\n",
       "      <td>0</td>\n",
       "      <td>2023</td>\n",
       "      <td>27.981651</td>\n",
       "      <td>38.990826</td>\n",
       "      <td>33.027523</td>\n",
       "      <td>26.605505</td>\n",
       "      <td>1.0</td>\n",
       "    </tr>\n",
       "  </tbody>\n",
       "</table>\n",
       "</div>"
      ],
      "text/plain": [
       "                     Club  Matches Played  Win  Loss  Drawn  Goals  \\\n",
       "0         Birmingham City             266   73   111     82    273   \n",
       "1        Blackburn Rovers             696  262   250    184    927   \n",
       "2        Bolton Wanderers             494  149   217    128    575   \n",
       "3             Bournemouth             219   64   107     48    269   \n",
       "4  Brighton & Hove Albion             218   61    85     72    243   \n",
       "\n",
       "   Clean Sheets TeamLaunch  Winners  Runners-up lastplayed_pl  Winning Rate  \\\n",
       "0            66       1875      0.0           0          2011     27.443609   \n",
       "1           210       1875      1.0           1          2012     37.643678   \n",
       "2           108       1874      0.0           0          2012     30.161943   \n",
       "3            45       1899      0.0           0          2023     29.223744   \n",
       "4            58       1901      0.0           0          2023     27.981651   \n",
       "\n",
       "   Loss Rate  Drawn Rate  Clean Sheet Rate  Avg Goals Per Match  \n",
       "0  41.729323   30.827068         24.812030                  1.0  \n",
       "1  35.919540   26.436782         30.172414                  1.0  \n",
       "2  43.927126   25.910931         21.862348                  1.0  \n",
       "3  48.858447   21.917808         20.547945                  1.0  \n",
       "4  38.990826   33.027523         26.605505                  1.0  "
      ]
     },
     "execution_count": 33,
     "metadata": {},
     "output_type": "execute_result"
    }
   ],
   "source": [
    "# Create new columns for Winning Rate, Loss Rate, Drawn Rate, & Clean Sheet Rate\n",
    "\n",
    "df['Winning Rate'] = (df['Win'] / df['Matches Played'])*100\n",
    "df['Loss Rate'] = (df['Loss'] / df['Matches Played'])*100\n",
    "df['Drawn Rate'] = (df['Drawn'] / df['Matches Played'])*100\n",
    "df['Clean Sheet Rate'] = (df['Clean Sheets'] / df['Matches Played'])*100\n",
    "\n",
    "# Create a column for average goals scored per match and round it to a whole number\n",
    "\n",
    "df['Avg Goals Per Match']=df['Goals']/df['Matches Played']\n",
    "df['Avg Goals Per Match']=df['Avg Goals Per Match'].round()\n",
    "\n",
    "df.head()"
   ]
  },
  {
   "cell_type": "markdown",
   "id": "eab6cb77",
   "metadata": {},
   "source": [
    "Hurray!!The new columns are added to the data frame."
   ]
  },
  {
   "cell_type": "code",
   "execution_count": 34,
   "id": "0b55e505",
   "metadata": {},
   "outputs": [
    {
     "data": {
      "image/png": "[encoded data removed]",
      "text/plain": [
       "<Figure size 800x600 with 1 Axes>"
      ]
     },
     "metadata": {},
     "output_type": "display_data"
    }
   ],
   "source": [
    "# Now let us visualize Winning, Loss, Drawn rate, and Clean Sheet\n",
    "\n",
    "# Set the figure size\n",
    "plt.figure(figsize=(8, 6))\n",
    "\n",
    "# Create the boxplot\n",
    "boxplot = plt.boxplot([df['Winning Rate'], df['Drawn Rate'], df['Loss Rate'], df['Clean Sheet Rate']], \n",
    "                      patch_artist=True,\n",
    "                      labels=['Winning Rate', 'Drawn Rate', 'Loss Rate', 'Clean Sheet Rate'])\n",
    "\n",
    "# Set the title and axis labels\n",
    "plt.title('Distribution of Winning Rate, Drawn Rate, Loss Rate and Clean Sheet Rate')\n",
    "plt.xlabel('Winning, Drawn ,Lost Game & Clean Sheet')\n",
    "plt.ylabel('Rate')\n",
    "\n",
    "# Show the plot\n",
    "plt.show()"
   ]
  },
  {
   "cell_type": "markdown",
   "id": "a699d648",
   "metadata": {},
   "source": [
    "**Winning Rate**\n",
    "\n",
    "We observe that there are a few outliers in the Winning Rate boxplot, which are located above the upper whisker. It is safe to conclude that these outlier clubs have shown exceptional winning rates compared to the other clubs.\n",
    "\n",
    "Let us identify the club that has highest and lowest \"Winning Rate\".\n",
    "\n",
    "**Drawn Rate**\n",
    "\n",
    "We observe an outlier in the drawn rate boxplot, indicating that there is one clubs has a much higher drawn rate compared to others. This may not necessarily be a positive indication, as it suggests that the club may struggle to secure wins in their matches.\n",
    "\n",
    "Let us identify which club is this.\n",
    "\n",
    "**Loss Rate**\n",
    "\n",
    "We can see very clearly that loss rates for these clubs are high compared to winning rate.\n",
    "\n",
    "**Clean Sheet Rate**\n",
    "\n",
    "We see that data for Clean Sheet rate is pretty symmetric."
   ]
  },
  {
   "cell_type": "code",
   "execution_count": 35,
   "id": "dc823f69",
   "metadata": {},
   "outputs": [
    {
     "data": {
      "text/html": [
       "<div>\n",
       "<style scoped>\n",
       "    .dataframe tbody tr th:only-of-type {\n",
       "        vertical-align: middle;\n",
       "    }\n",
       "\n",
       "    .dataframe tbody tr th {\n",
       "        vertical-align: top;\n",
       "    }\n",
       "\n",
       "    .dataframe thead th {\n",
       "        text-align: right;\n",
       "    }\n",
       "</style>\n",
       "<table border=\"1\" class=\"dataframe\">\n",
       "  <thead>\n",
       "    <tr style=\"text-align: right;\">\n",
       "      <th></th>\n",
       "      <th>Club</th>\n",
       "      <th>Matches Played</th>\n",
       "      <th>Win</th>\n",
       "      <th>Loss</th>\n",
       "      <th>Drawn</th>\n",
       "      <th>Goals</th>\n",
       "      <th>Clean Sheets</th>\n",
       "      <th>TeamLaunch</th>\n",
       "      <th>Winners</th>\n",
       "      <th>Runners-up</th>\n",
       "      <th>lastplayed_pl</th>\n",
       "      <th>Winning Rate</th>\n",
       "      <th>Loss Rate</th>\n",
       "      <th>Drawn Rate</th>\n",
       "      <th>Clean Sheet Rate</th>\n",
       "      <th>Avg Goals Per Match</th>\n",
       "    </tr>\n",
       "  </thead>\n",
       "  <tbody>\n",
       "    <tr>\n",
       "      <th>1</th>\n",
       "      <td>Blackburn Rovers</td>\n",
       "      <td>696</td>\n",
       "      <td>262</td>\n",
       "      <td>250</td>\n",
       "      <td>184</td>\n",
       "      <td>927</td>\n",
       "      <td>210</td>\n",
       "      <td>1875</td>\n",
       "      <td>1.0</td>\n",
       "      <td>1</td>\n",
       "      <td>2012</td>\n",
       "      <td>37.643678</td>\n",
       "      <td>35.919540</td>\n",
       "      <td>26.436782</td>\n",
       "      <td>30.172414</td>\n",
       "      <td>1.0</td>\n",
       "    </tr>\n",
       "    <tr>\n",
       "      <th>12</th>\n",
       "      <td>Leeds United</td>\n",
       "      <td>574</td>\n",
       "      <td>223</td>\n",
       "      <td>202</td>\n",
       "      <td>149</td>\n",
       "      <td>784</td>\n",
       "      <td>179</td>\n",
       "      <td>1919</td>\n",
       "      <td>0.0</td>\n",
       "      <td>0</td>\n",
       "      <td>2023</td>\n",
       "      <td>38.850174</td>\n",
       "      <td>35.191638</td>\n",
       "      <td>25.958188</td>\n",
       "      <td>31.184669</td>\n",
       "      <td>1.0</td>\n",
       "    </tr>\n",
       "  </tbody>\n",
       "</table>\n",
       "</div>"
      ],
      "text/plain": [
       "                Club  Matches Played  Win  Loss  Drawn  Goals  Clean Sheets  \\\n",
       "1   Blackburn Rovers             696  262   250    184    927           210   \n",
       "12      Leeds United             574  223   202    149    784           179   \n",
       "\n",
       "   TeamLaunch  Winners  Runners-up lastplayed_pl  Winning Rate  Loss Rate  \\\n",
       "1        1875      1.0           1          2012     37.643678  35.919540   \n",
       "12       1919      0.0           0          2023     38.850174  35.191638   \n",
       "\n",
       "    Drawn Rate  Clean Sheet Rate  Avg Goals Per Match  \n",
       "1    26.436782         30.172414                  1.0  \n",
       "12   25.958188         31.184669                  1.0  "
      ]
     },
     "execution_count": 35,
     "metadata": {},
     "output_type": "execute_result"
    }
   ],
   "source": [
    "# Winning Rate further analysis. Identify clubs with high winning rate\n",
    "\n",
    "# Calculate the interquartile range for the \"Winning Rate\" column\n",
    "Q1 = df['Winning Rate'].quantile(0.25)\n",
    "Q3 = df['Winning Rate'].quantile(0.75)\n",
    "IQR = Q3 - Q1\n",
    "\n",
    "# Calculate the upper boundaries for potential outliers <-- Expectional high winning rate compared to other teams\n",
    "upper_bound = Q3 + 1.5 * IQR\n",
    "\n",
    "# Identify the clubs with high winning rate \n",
    "HighWinningRate_CLubs = df[(df['Winning Rate'] > upper_bound)]\n",
    "HighWinningRate_CLubs"
   ]
  },
  {
   "cell_type": "markdown",
   "id": "2746726d",
   "metadata": {},
   "source": [
    "We can clearly see that, **Blackburn Rovers** and **Leeds united** are having a exceptional winning rate of 38% and 39% respectively."
   ]
  },
  {
   "cell_type": "code",
   "execution_count": 36,
   "id": "5b5e177e",
   "metadata": {},
   "outputs": [
    {
     "data": {
      "text/html": [
       "<div>\n",
       "<style scoped>\n",
       "    .dataframe tbody tr th:only-of-type {\n",
       "        vertical-align: middle;\n",
       "    }\n",
       "\n",
       "    .dataframe tbody tr th {\n",
       "        vertical-align: top;\n",
       "    }\n",
       "\n",
       "    .dataframe thead th {\n",
       "        text-align: right;\n",
       "    }\n",
       "</style>\n",
       "<table border=\"1\" class=\"dataframe\">\n",
       "  <thead>\n",
       "    <tr style=\"text-align: right;\">\n",
       "      <th></th>\n",
       "      <th>Club</th>\n",
       "      <th>Matches Played</th>\n",
       "      <th>Win</th>\n",
       "      <th>Loss</th>\n",
       "      <th>Drawn</th>\n",
       "      <th>Goals</th>\n",
       "      <th>Clean Sheets</th>\n",
       "      <th>TeamLaunch</th>\n",
       "      <th>Winners</th>\n",
       "      <th>Runners-up</th>\n",
       "      <th>lastplayed_pl</th>\n",
       "      <th>Winning Rate</th>\n",
       "      <th>Loss Rate</th>\n",
       "      <th>Drawn Rate</th>\n",
       "      <th>Clean Sheet Rate</th>\n",
       "      <th>Avg Goals Per Match</th>\n",
       "    </tr>\n",
       "  </thead>\n",
       "  <tbody>\n",
       "    <tr>\n",
       "      <th>17</th>\n",
       "      <td>Hull City</td>\n",
       "      <td>190</td>\n",
       "      <td>41</td>\n",
       "      <td>101</td>\n",
       "      <td>48</td>\n",
       "      <td>181</td>\n",
       "      <td>58</td>\n",
       "      <td>1904</td>\n",
       "      <td>0.0</td>\n",
       "      <td>0</td>\n",
       "      <td>2017</td>\n",
       "      <td>21.578947</td>\n",
       "      <td>53.157895</td>\n",
       "      <td>25.263158</td>\n",
       "      <td>30.526316</td>\n",
       "      <td>1.0</td>\n",
       "    </tr>\n",
       "  </tbody>\n",
       "</table>\n",
       "</div>"
      ],
      "text/plain": [
       "         Club  Matches Played  Win  Loss  Drawn  Goals  Clean Sheets  \\\n",
       "17  Hull City             190   41   101     48    181            58   \n",
       "\n",
       "   TeamLaunch  Winners  Runners-up lastplayed_pl  Winning Rate  Loss Rate  \\\n",
       "17       1904      0.0           0          2017     21.578947  53.157895   \n",
       "\n",
       "    Drawn Rate  Clean Sheet Rate  Avg Goals Per Match  \n",
       "17   25.263158         30.526316                  1.0  "
      ]
     },
     "execution_count": 36,
     "metadata": {},
     "output_type": "execute_result"
    }
   ],
   "source": [
    "# Winning Rate further analysis. Identify club with low winning rate\n",
    "\n",
    "# Calculate the lower boundaries for potential outliers <-- Low winning rate compared to other teams\n",
    "lower_bound = Q1 - 1.5 * IQR\n",
    "\n",
    "# Identify the clubs with lowest winning rate \n",
    "lowwinningrate = df[(df['Winning Rate'] < lower_bound)]\n",
    "lowwinningrate"
   ]
  },
  {
   "cell_type": "markdown",
   "id": "53f10d28",
   "metadata": {},
   "source": [
    "And here, **Hull city** is with the lowest winning rate of 21%."
   ]
  },
  {
   "cell_type": "code",
   "execution_count": 37,
   "id": "fd115217",
   "metadata": {},
   "outputs": [
    {
     "data": {
      "text/html": [
       "<div>\n",
       "<style scoped>\n",
       "    .dataframe tbody tr th:only-of-type {\n",
       "        vertical-align: middle;\n",
       "    }\n",
       "\n",
       "    .dataframe tbody tr th {\n",
       "        vertical-align: top;\n",
       "    }\n",
       "\n",
       "    .dataframe thead th {\n",
       "        text-align: right;\n",
       "    }\n",
       "</style>\n",
       "<table border=\"1\" class=\"dataframe\">\n",
       "  <thead>\n",
       "    <tr style=\"text-align: right;\">\n",
       "      <th></th>\n",
       "      <th>Club</th>\n",
       "      <th>Matches Played</th>\n",
       "      <th>Win</th>\n",
       "      <th>Loss</th>\n",
       "      <th>Drawn</th>\n",
       "      <th>Goals</th>\n",
       "      <th>Clean Sheets</th>\n",
       "      <th>TeamLaunch</th>\n",
       "      <th>Winners</th>\n",
       "      <th>Runners-up</th>\n",
       "      <th>lastplayed_pl</th>\n",
       "      <th>Winning Rate</th>\n",
       "      <th>Loss Rate</th>\n",
       "      <th>Drawn Rate</th>\n",
       "      <th>Clean Sheet Rate</th>\n",
       "      <th>Avg Goals Per Match</th>\n",
       "    </tr>\n",
       "  </thead>\n",
       "  <tbody>\n",
       "    <tr>\n",
       "      <th>4</th>\n",
       "      <td>Brighton &amp; Hove Albion</td>\n",
       "      <td>218</td>\n",
       "      <td>61</td>\n",
       "      <td>85</td>\n",
       "      <td>72</td>\n",
       "      <td>243</td>\n",
       "      <td>58</td>\n",
       "      <td>1901</td>\n",
       "      <td>0.0</td>\n",
       "      <td>0</td>\n",
       "      <td>2023</td>\n",
       "      <td>27.981651</td>\n",
       "      <td>38.990826</td>\n",
       "      <td>33.027523</td>\n",
       "      <td>26.605505</td>\n",
       "      <td>1.0</td>\n",
       "    </tr>\n",
       "  </tbody>\n",
       "</table>\n",
       "</div>"
      ],
      "text/plain": [
       "                     Club  Matches Played  Win  Loss  Drawn  Goals  \\\n",
       "4  Brighton & Hove Albion             218   61    85     72    243   \n",
       "\n",
       "   Clean Sheets TeamLaunch  Winners  Runners-up lastplayed_pl  Winning Rate  \\\n",
       "4            58       1901      0.0           0          2023     27.981651   \n",
       "\n",
       "   Loss Rate  Drawn Rate  Clean Sheet Rate  Avg Goals Per Match  \n",
       "4  38.990826   33.027523         26.605505                  1.0  "
      ]
     },
     "execution_count": 37,
     "metadata": {},
     "output_type": "execute_result"
    }
   ],
   "source": [
    "# Drawn Rate further analysis. Identify club with high drawn rate\n",
    "# Calculate the interquartile range for the \"Drawn Rate\" column\n",
    "Q1 = df['Drawn Rate'].quantile(0.25)\n",
    "Q3 = df['Drawn Rate'].quantile(0.75)\n",
    "IQR = Q3 - Q1\n",
    "\n",
    "# Calculate the upper boundaries for potential outliers <-- Expectional high winning rate compared to other teams\n",
    "upper_bound = Q3 + 1.5 * IQR\n",
    "\n",
    "# Identify the clubs with high winning rate \n",
    "highwinningrate = df[(df['Drawn Rate'] > upper_bound)]\n",
    "highwinningrate"
   ]
  },
  {
   "cell_type": "markdown",
   "id": "4f2e761f",
   "metadata": {},
   "source": [
    "With the drawn rate of 27%, **Brighton & Hove Albion** are exceptional."
   ]
  },
  {
   "cell_type": "code",
   "execution_count": 38,
   "id": "091624b7",
   "metadata": {},
   "outputs": [
    {
     "data": {
      "text/plain": [
       "count    29.0\n",
       "mean      1.0\n",
       "std       0.0\n",
       "min       1.0\n",
       "25%       1.0\n",
       "50%       1.0\n",
       "75%       1.0\n",
       "max       1.0\n",
       "Name: Avg Goals Per Match, dtype: float64"
      ]
     },
     "execution_count": 38,
     "metadata": {},
     "output_type": "execute_result"
    }
   ],
   "source": [
    "# Now let us explore 'Avg Goals Per Match' column\n",
    "\n",
    "df['Avg Goals Per Match'].describe()"
   ]
  },
  {
   "cell_type": "markdown",
   "id": "255dfc29",
   "metadata": {},
   "source": [
    "There is no much useful insights from this field, So we wont be using it for further analysis."
   ]
  },
  {
   "cell_type": "code",
   "execution_count": 39,
   "id": "80c9e6b8",
   "metadata": {},
   "outputs": [
    {
     "data": {
      "text/plain": [
       "Winners\n",
       "0.0    27\n",
       "1.0     2\n",
       "Name: count, dtype: int64"
      ]
     },
     "execution_count": 39,
     "metadata": {},
     "output_type": "execute_result"
    }
   ],
   "source": [
    "# Let us explore columns 'Winners' and 'Runners-up'\n",
    "\n",
    "df['Winners'].value_counts()"
   ]
  },
  {
   "cell_type": "code",
   "execution_count": 40,
   "id": "5aa45862",
   "metadata": {},
   "outputs": [
    {
     "data": {
      "text/plain": [
       "Runners-up\n",
       "0    28\n",
       "1     1\n",
       "Name: count, dtype: Int64"
      ]
     },
     "execution_count": 40,
     "metadata": {},
     "output_type": "execute_result"
    }
   ],
   "source": [
    "df['Runners-up'].value_counts()"
   ]
  },
  {
   "cell_type": "markdown",
   "id": "8cfec619",
   "metadata": {},
   "source": [
    "Ohh!! We clearly see that there are only 2 clubs who won the tournament 2 once and only 1 club that stood that runner-up once. Let's check who those are."
   ]
  },
  {
   "cell_type": "code",
   "execution_count": 41,
   "id": "c07ee00d",
   "metadata": {},
   "outputs": [
    {
     "data": {
      "text/html": [
       "<div>\n",
       "<style scoped>\n",
       "    .dataframe tbody tr th:only-of-type {\n",
       "        vertical-align: middle;\n",
       "    }\n",
       "\n",
       "    .dataframe tbody tr th {\n",
       "        vertical-align: top;\n",
       "    }\n",
       "\n",
       "    .dataframe thead th {\n",
       "        text-align: right;\n",
       "    }\n",
       "</style>\n",
       "<table border=\"1\" class=\"dataframe\">\n",
       "  <thead>\n",
       "    <tr style=\"text-align: right;\">\n",
       "      <th></th>\n",
       "      <th>Club</th>\n",
       "      <th>Matches Played</th>\n",
       "      <th>Win</th>\n",
       "      <th>Loss</th>\n",
       "      <th>Drawn</th>\n",
       "      <th>Goals</th>\n",
       "      <th>Clean Sheets</th>\n",
       "      <th>TeamLaunch</th>\n",
       "      <th>Winners</th>\n",
       "      <th>Runners-up</th>\n",
       "      <th>lastplayed_pl</th>\n",
       "      <th>Winning Rate</th>\n",
       "      <th>Loss Rate</th>\n",
       "      <th>Drawn Rate</th>\n",
       "      <th>Clean Sheet Rate</th>\n",
       "      <th>Avg Goals Per Match</th>\n",
       "    </tr>\n",
       "  </thead>\n",
       "  <tbody>\n",
       "    <tr>\n",
       "      <th>1</th>\n",
       "      <td>Blackburn Rovers</td>\n",
       "      <td>696</td>\n",
       "      <td>262</td>\n",
       "      <td>250</td>\n",
       "      <td>184</td>\n",
       "      <td>927</td>\n",
       "      <td>210</td>\n",
       "      <td>1875</td>\n",
       "      <td>1.0</td>\n",
       "      <td>1</td>\n",
       "      <td>2012</td>\n",
       "      <td>37.643678</td>\n",
       "      <td>35.919540</td>\n",
       "      <td>26.436782</td>\n",
       "      <td>30.172414</td>\n",
       "      <td>1.0</td>\n",
       "    </tr>\n",
       "    <tr>\n",
       "      <th>13</th>\n",
       "      <td>Leicester City</td>\n",
       "      <td>642</td>\n",
       "      <td>216</td>\n",
       "      <td>262</td>\n",
       "      <td>164</td>\n",
       "      <td>860</td>\n",
       "      <td>167</td>\n",
       "      <td>1884</td>\n",
       "      <td>1.0</td>\n",
       "      <td>0</td>\n",
       "      <td>2023</td>\n",
       "      <td>33.644860</td>\n",
       "      <td>40.809969</td>\n",
       "      <td>25.545171</td>\n",
       "      <td>26.012461</td>\n",
       "      <td>1.0</td>\n",
       "    </tr>\n",
       "  </tbody>\n",
       "</table>\n",
       "</div>"
      ],
      "text/plain": [
       "                Club  Matches Played  Win  Loss  Drawn  Goals  Clean Sheets  \\\n",
       "1   Blackburn Rovers             696  262   250    184    927           210   \n",
       "13    Leicester City             642  216   262    164    860           167   \n",
       "\n",
       "   TeamLaunch  Winners  Runners-up lastplayed_pl  Winning Rate  Loss Rate  \\\n",
       "1        1875      1.0           1          2012     37.643678  35.919540   \n",
       "13       1884      1.0           0          2023     33.644860  40.809969   \n",
       "\n",
       "    Drawn Rate  Clean Sheet Rate  Avg Goals Per Match  \n",
       "1    26.436782         30.172414                  1.0  \n",
       "13   25.545171         26.012461                  1.0  "
      ]
     },
     "execution_count": 41,
     "metadata": {},
     "output_type": "execute_result"
    }
   ],
   "source": [
    "df[(df['Winners']==1) | (df['Runners-up']==1)]"
   ]
  },
  {
   "cell_type": "markdown",
   "id": "23d352a5",
   "metadata": {},
   "source": [
    "**Blackburn Rovers** have won Premier League once and been an Runners-up once and **Leicester City** has won Premier League once."
   ]
  },
  {
   "cell_type": "code",
   "execution_count": 42,
   "id": "320e3c0b",
   "metadata": {},
   "outputs": [
    {
     "data": {
      "text/plain": [
       "count     29.000000\n",
       "mean     372.482759\n",
       "std      153.533296\n",
       "min      190.000000\n",
       "25%      266.000000\n",
       "50%      305.000000\n",
       "75%      494.000000\n",
       "max      696.000000\n",
       "Name: Matches Played, dtype: float64"
      ]
     },
     "execution_count": 42,
     "metadata": {},
     "output_type": "execute_result"
    }
   ],
   "source": [
    "# Lets us again analyse Matches Played Column for our reduced dataframe (29 clubs).\n",
    "\n",
    "df['Matches Played'].describe()"
   ]
  },
  {
   "cell_type": "markdown",
   "id": "66bfb4c0",
   "metadata": {},
   "source": [
    "So, the average matches played by the clubs is **372**."
   ]
  },
  {
   "cell_type": "code",
   "execution_count": 43,
   "id": "1258ea6e",
   "metadata": {},
   "outputs": [
    {
     "data": {
      "text/plain": [
       "lastplayed_pl\n",
       "2023    8\n",
       "2022    3\n",
       "2017    3\n",
       "2018    3\n",
       "2012    2\n",
       "2011    1\n",
       "2007    1\n",
       "2001    1\n",
       "2008    1\n",
       "2002    1\n",
       "2015    1\n",
       "2021    1\n",
       "2000    1\n",
       "2013    1\n",
       "2010    1\n",
       "Name: count, dtype: int64"
      ]
     },
     "execution_count": 43,
     "metadata": {},
     "output_type": "execute_result"
    }
   ],
   "source": [
    "# Let us look at \"lastplayed_pl\" column\n",
    "df['lastplayed_pl'].value_counts()"
   ]
  },
  {
   "cell_type": "markdown",
   "id": "0c8e1172",
   "metadata": {},
   "source": [
    "Out of the total 29 teams, eight are currently playing in the Premier League. Since these teams are currently active in the league, it makes sense to prioritize them in our analysis. However, there are also teams that date back as early as 2000. It may be appropriate to assign these teams less weight."
   ]
  },
  {
   "cell_type": "code",
   "execution_count": 48,
   "id": "dded77a9",
   "metadata": {},
   "outputs": [
    {
     "data": {
      "text/plain": [
       "3                 Bournemouth\n",
       "4      Brighton & Hove Albion\n",
       "8              Crystal Palace\n",
       "10                     Fulham\n",
       "12               Leeds United\n",
       "13             Leicester City\n",
       "16          Nottingham Forest\n",
       "27    Wolverhampton Wanderers\n",
       "Name: Club, dtype: object"
      ]
     },
     "execution_count": 48,
     "metadata": {},
     "output_type": "execute_result"
    }
   ],
   "source": [
    "# Let us check the eight teams that are currently playing in the Premier League\n",
    "\n",
    "df[df['lastplayed_pl']=='2023']['Club']"
   ]
  },
  {
   "cell_type": "markdown",
   "id": "1be3e99c",
   "metadata": {},
   "source": [
    "Giving more priority to teams that have **more recent experience** playing in the Premier League is ideal. When making the final decision, we will assign higher weight to teams that have played more recently, and lesser weight to those that have not played recently."
   ]
  },
  {
   "cell_type": "markdown",
   "id": "586d7603",
   "metadata": {},
   "source": [
    "### Observations\n",
    "\n",
    "* **Blackburn Rovers and Leeds united** are having a exceptional winning rate.\n",
    "* **Hull city** is with the lowest winning rate.\n",
    "* **Brighton & Hove Albion** are exceptional in Drawn rate.\n",
    "* **Blackburn Rovers** have won Premier League once and been an Runners-up once.\n",
    "* **Leicester City** has won Premier League once.\n",
    "* The average matches played by the clubs is **372**.\n",
    "* **8** are currently playing in the Premier League."
   ]
  },
  {
   "cell_type": "markdown",
   "id": "6c924ecc",
   "metadata": {},
   "source": [
    "## Final Recommendations Framework"
   ]
  },
  {
   "cell_type": "markdown",
   "id": "a34f5a8a",
   "metadata": {},
   "source": [
    "Let's create a plan to Score each team on the pre defined metric.\n",
    "\n",
    "* Give a score of **10** if club have a relatively high experience in the Premier League **above average (372)**\n",
    "* Give a score of **15** if club has **winning rate** above Q3\n",
    "* Give a score of **15** if club has **lossing rate** below Q1\n",
    "* Give a score of **10** if club **drawn rate** below Q1 and **losing rate** is below Q1\n",
    "* Give a score of **10** if club has **clean sheet** above Q3 and **winning rate** is above Q3\n",
    "* Give a score of **15** if club has **won** premier league\n",
    "* Give a score of **10** if club has been a **runners-up** in premier league\n",
    "* Give a score of **15** if club has been **currently playing** in premier league"
   ]
  },
  {
   "cell_type": "code",
   "execution_count": 49,
   "id": "36df383d",
   "metadata": {},
   "outputs": [],
   "source": [
    "# Calculate the upper bound for the \"Winning Rate\" column\n",
    "upper_bound_WinningRate = df['Winning Rate'].quantile(0.75)\n",
    "\n",
    "# Calculate the lower bound for the \"Loss Rate\" column\n",
    "lower_bound_LosingRate = df['Loss Rate'].quantile(0.25)\n",
    "\n",
    "# Calculate the lower bound for the \"Drawn Rate\" column\n",
    "lower_bound_DrawnRate = df['Drawn Rate'].quantile(0.25)\n",
    "\n",
    "# Calculate the upper bound for the \"Clean Sheet Rate\" column\n",
    "upper_bound_CleanSheetRate = df['Clean Sheet Rate'].quantile(0.75)"
   ]
  },
  {
   "cell_type": "code",
   "execution_count": 50,
   "id": "89fa0f4e",
   "metadata": {},
   "outputs": [
    {
     "data": {
      "text/plain": [
       "29"
      ]
     },
     "execution_count": 50,
     "metadata": {},
     "output_type": "execute_result"
    }
   ],
   "source": [
    "# Let's find the length of our updated DataFrame\n",
    "len(df)"
   ]
  },
  {
   "cell_type": "code",
   "execution_count": 51,
   "id": "738ea607",
   "metadata": {},
   "outputs": [
    {
     "data": {
      "text/html": [
       "<div>\n",
       "<style scoped>\n",
       "    .dataframe tbody tr th:only-of-type {\n",
       "        vertical-align: middle;\n",
       "    }\n",
       "\n",
       "    .dataframe tbody tr th {\n",
       "        vertical-align: top;\n",
       "    }\n",
       "\n",
       "    .dataframe thead th {\n",
       "        text-align: right;\n",
       "    }\n",
       "</style>\n",
       "<table border=\"1\" class=\"dataframe\">\n",
       "  <thead>\n",
       "    <tr style=\"text-align: right;\">\n",
       "      <th></th>\n",
       "      <th>Club</th>\n",
       "      <th>Matches Played</th>\n",
       "      <th>Win</th>\n",
       "      <th>Loss</th>\n",
       "      <th>Drawn</th>\n",
       "      <th>Goals</th>\n",
       "      <th>Clean Sheets</th>\n",
       "      <th>TeamLaunch</th>\n",
       "      <th>Winners</th>\n",
       "      <th>Runners-up</th>\n",
       "      <th>lastplayed_pl</th>\n",
       "      <th>Winning Rate</th>\n",
       "      <th>Loss Rate</th>\n",
       "      <th>Drawn Rate</th>\n",
       "      <th>Clean Sheet Rate</th>\n",
       "      <th>Avg Goals Per Match</th>\n",
       "      <th>scores</th>\n",
       "    </tr>\n",
       "  </thead>\n",
       "  <tbody>\n",
       "    <tr>\n",
       "      <th>0</th>\n",
       "      <td>Birmingham City</td>\n",
       "      <td>266</td>\n",
       "      <td>73</td>\n",
       "      <td>111</td>\n",
       "      <td>82</td>\n",
       "      <td>273</td>\n",
       "      <td>66</td>\n",
       "      <td>1875</td>\n",
       "      <td>0.0</td>\n",
       "      <td>0</td>\n",
       "      <td>2011</td>\n",
       "      <td>27.443609</td>\n",
       "      <td>41.729323</td>\n",
       "      <td>30.827068</td>\n",
       "      <td>24.812030</td>\n",
       "      <td>1.0</td>\n",
       "      <td>0.0</td>\n",
       "    </tr>\n",
       "    <tr>\n",
       "      <th>1</th>\n",
       "      <td>Blackburn Rovers</td>\n",
       "      <td>696</td>\n",
       "      <td>262</td>\n",
       "      <td>250</td>\n",
       "      <td>184</td>\n",
       "      <td>927</td>\n",
       "      <td>210</td>\n",
       "      <td>1875</td>\n",
       "      <td>1.0</td>\n",
       "      <td>1</td>\n",
       "      <td>2012</td>\n",
       "      <td>37.643678</td>\n",
       "      <td>35.919540</td>\n",
       "      <td>26.436782</td>\n",
       "      <td>30.172414</td>\n",
       "      <td>1.0</td>\n",
       "      <td>0.0</td>\n",
       "    </tr>\n",
       "    <tr>\n",
       "      <th>2</th>\n",
       "      <td>Bolton Wanderers</td>\n",
       "      <td>494</td>\n",
       "      <td>149</td>\n",
       "      <td>217</td>\n",
       "      <td>128</td>\n",
       "      <td>575</td>\n",
       "      <td>108</td>\n",
       "      <td>1874</td>\n",
       "      <td>0.0</td>\n",
       "      <td>0</td>\n",
       "      <td>2012</td>\n",
       "      <td>30.161943</td>\n",
       "      <td>43.927126</td>\n",
       "      <td>25.910931</td>\n",
       "      <td>21.862348</td>\n",
       "      <td>1.0</td>\n",
       "      <td>0.0</td>\n",
       "    </tr>\n",
       "    <tr>\n",
       "      <th>3</th>\n",
       "      <td>Bournemouth</td>\n",
       "      <td>219</td>\n",
       "      <td>64</td>\n",
       "      <td>107</td>\n",
       "      <td>48</td>\n",
       "      <td>269</td>\n",
       "      <td>45</td>\n",
       "      <td>1899</td>\n",
       "      <td>0.0</td>\n",
       "      <td>0</td>\n",
       "      <td>2023</td>\n",
       "      <td>29.223744</td>\n",
       "      <td>48.858447</td>\n",
       "      <td>21.917808</td>\n",
       "      <td>20.547945</td>\n",
       "      <td>1.0</td>\n",
       "      <td>0.0</td>\n",
       "    </tr>\n",
       "    <tr>\n",
       "      <th>4</th>\n",
       "      <td>Brighton &amp; Hove Albion</td>\n",
       "      <td>218</td>\n",
       "      <td>61</td>\n",
       "      <td>85</td>\n",
       "      <td>72</td>\n",
       "      <td>243</td>\n",
       "      <td>58</td>\n",
       "      <td>1901</td>\n",
       "      <td>0.0</td>\n",
       "      <td>0</td>\n",
       "      <td>2023</td>\n",
       "      <td>27.981651</td>\n",
       "      <td>38.990826</td>\n",
       "      <td>33.027523</td>\n",
       "      <td>26.605505</td>\n",
       "      <td>1.0</td>\n",
       "      <td>0.0</td>\n",
       "    </tr>\n",
       "  </tbody>\n",
       "</table>\n",
       "</div>"
      ],
      "text/plain": [
       "                     Club  Matches Played  Win  Loss  Drawn  Goals  \\\n",
       "0         Birmingham City             266   73   111     82    273   \n",
       "1        Blackburn Rovers             696  262   250    184    927   \n",
       "2        Bolton Wanderers             494  149   217    128    575   \n",
       "3             Bournemouth             219   64   107     48    269   \n",
       "4  Brighton & Hove Albion             218   61    85     72    243   \n",
       "\n",
       "   Clean Sheets TeamLaunch  Winners  Runners-up lastplayed_pl  Winning Rate  \\\n",
       "0            66       1875      0.0           0          2011     27.443609   \n",
       "1           210       1875      1.0           1          2012     37.643678   \n",
       "2           108       1874      0.0           0          2012     30.161943   \n",
       "3            45       1899      0.0           0          2023     29.223744   \n",
       "4            58       1901      0.0           0          2023     27.981651   \n",
       "\n",
       "   Loss Rate  Drawn Rate  Clean Sheet Rate  Avg Goals Per Match  scores  \n",
       "0  41.729323   30.827068         24.812030                  1.0     0.0  \n",
       "1  35.919540   26.436782         30.172414                  1.0     0.0  \n",
       "2  43.927126   25.910931         21.862348                  1.0     0.0  \n",
       "3  48.858447   21.917808         20.547945                  1.0     0.0  \n",
       "4  38.990826   33.027523         26.605505                  1.0     0.0  "
      ]
     },
     "execution_count": 51,
     "metadata": {},
     "output_type": "execute_result"
    }
   ],
   "source": [
    "# Create a column to calculate the score wrt the length of the updated DataFrame\n",
    "df['scores']=np.zeros(len(df))\n",
    "df.head()"
   ]
  },
  {
   "cell_type": "code",
   "execution_count": 52,
   "id": "a9423528",
   "metadata": {},
   "outputs": [],
   "source": [
    "df.loc[df['Matches Played'] >= 372, 'scores'] += 10\n",
    "df.loc[df['Winning Rate'] >= upper_bound_WinningRate, 'scores'] += 15\n",
    "df.loc[df['Loss Rate'] <= lower_bound_LosingRate, 'scores'] += 15\n",
    "df.loc[(df['Drawn Rate'] <= lower_bound_DrawnRate) & (df['Loss Rate'] <= lower_bound_LosingRate), 'scores'] += 10\n",
    "df.loc[(df['Clean Sheet Rate'] >= upper_bound_CleanSheetRate) & (df['Winning Rate'] >= upper_bound_WinningRate), 'scores'] += 10\n",
    "df.loc[df['Winners'] == 1, 'scores'] += 15\n",
    "df.loc[df['Runners-up'] == 1, 'scores'] += 10\n",
    "df.loc[df['lastplayed_pl'] == 2023, 'scores'] += 15"
   ]
  },
  {
   "cell_type": "code",
   "execution_count": 53,
   "id": "71506093",
   "metadata": {},
   "outputs": [
    {
     "data": {
      "text/html": [
       "<div>\n",
       "<style scoped>\n",
       "    .dataframe tbody tr th:only-of-type {\n",
       "        vertical-align: middle;\n",
       "    }\n",
       "\n",
       "    .dataframe tbody tr th {\n",
       "        vertical-align: top;\n",
       "    }\n",
       "\n",
       "    .dataframe thead th {\n",
       "        text-align: right;\n",
       "    }\n",
       "</style>\n",
       "<table border=\"1\" class=\"dataframe\">\n",
       "  <thead>\n",
       "    <tr style=\"text-align: right;\">\n",
       "      <th></th>\n",
       "      <th>Club</th>\n",
       "      <th>Matches Played</th>\n",
       "      <th>Win</th>\n",
       "      <th>Loss</th>\n",
       "      <th>Drawn</th>\n",
       "      <th>Goals</th>\n",
       "      <th>Clean Sheets</th>\n",
       "      <th>TeamLaunch</th>\n",
       "      <th>Winners</th>\n",
       "      <th>Runners-up</th>\n",
       "      <th>lastplayed_pl</th>\n",
       "      <th>Winning Rate</th>\n",
       "      <th>Loss Rate</th>\n",
       "      <th>Drawn Rate</th>\n",
       "      <th>Clean Sheet Rate</th>\n",
       "      <th>Avg Goals Per Match</th>\n",
       "      <th>scores</th>\n",
       "    </tr>\n",
       "  </thead>\n",
       "  <tbody>\n",
       "    <tr>\n",
       "      <th>0</th>\n",
       "      <td>Birmingham City</td>\n",
       "      <td>266</td>\n",
       "      <td>73</td>\n",
       "      <td>111</td>\n",
       "      <td>82</td>\n",
       "      <td>273</td>\n",
       "      <td>66</td>\n",
       "      <td>1875</td>\n",
       "      <td>0.0</td>\n",
       "      <td>0</td>\n",
       "      <td>2011</td>\n",
       "      <td>27.443609</td>\n",
       "      <td>41.729323</td>\n",
       "      <td>30.827068</td>\n",
       "      <td>24.812030</td>\n",
       "      <td>1.0</td>\n",
       "      <td>0.0</td>\n",
       "    </tr>\n",
       "    <tr>\n",
       "      <th>1</th>\n",
       "      <td>Blackburn Rovers</td>\n",
       "      <td>696</td>\n",
       "      <td>262</td>\n",
       "      <td>250</td>\n",
       "      <td>184</td>\n",
       "      <td>927</td>\n",
       "      <td>210</td>\n",
       "      <td>1875</td>\n",
       "      <td>1.0</td>\n",
       "      <td>1</td>\n",
       "      <td>2012</td>\n",
       "      <td>37.643678</td>\n",
       "      <td>35.919540</td>\n",
       "      <td>26.436782</td>\n",
       "      <td>30.172414</td>\n",
       "      <td>1.0</td>\n",
       "      <td>75.0</td>\n",
       "    </tr>\n",
       "    <tr>\n",
       "      <th>2</th>\n",
       "      <td>Bolton Wanderers</td>\n",
       "      <td>494</td>\n",
       "      <td>149</td>\n",
       "      <td>217</td>\n",
       "      <td>128</td>\n",
       "      <td>575</td>\n",
       "      <td>108</td>\n",
       "      <td>1874</td>\n",
       "      <td>0.0</td>\n",
       "      <td>0</td>\n",
       "      <td>2012</td>\n",
       "      <td>30.161943</td>\n",
       "      <td>43.927126</td>\n",
       "      <td>25.910931</td>\n",
       "      <td>21.862348</td>\n",
       "      <td>1.0</td>\n",
       "      <td>25.0</td>\n",
       "    </tr>\n",
       "    <tr>\n",
       "      <th>3</th>\n",
       "      <td>Bournemouth</td>\n",
       "      <td>219</td>\n",
       "      <td>64</td>\n",
       "      <td>107</td>\n",
       "      <td>48</td>\n",
       "      <td>269</td>\n",
       "      <td>45</td>\n",
       "      <td>1899</td>\n",
       "      <td>0.0</td>\n",
       "      <td>0</td>\n",
       "      <td>2023</td>\n",
       "      <td>29.223744</td>\n",
       "      <td>48.858447</td>\n",
       "      <td>21.917808</td>\n",
       "      <td>20.547945</td>\n",
       "      <td>1.0</td>\n",
       "      <td>0.0</td>\n",
       "    </tr>\n",
       "    <tr>\n",
       "      <th>4</th>\n",
       "      <td>Brighton &amp; Hove Albion</td>\n",
       "      <td>218</td>\n",
       "      <td>61</td>\n",
       "      <td>85</td>\n",
       "      <td>72</td>\n",
       "      <td>243</td>\n",
       "      <td>58</td>\n",
       "      <td>1901</td>\n",
       "      <td>0.0</td>\n",
       "      <td>0</td>\n",
       "      <td>2023</td>\n",
       "      <td>27.981651</td>\n",
       "      <td>38.990826</td>\n",
       "      <td>33.027523</td>\n",
       "      <td>26.605505</td>\n",
       "      <td>1.0</td>\n",
       "      <td>15.0</td>\n",
       "    </tr>\n",
       "  </tbody>\n",
       "</table>\n",
       "</div>"
      ],
      "text/plain": [
       "                     Club  Matches Played  Win  Loss  Drawn  Goals  \\\n",
       "0         Birmingham City             266   73   111     82    273   \n",
       "1        Blackburn Rovers             696  262   250    184    927   \n",
       "2        Bolton Wanderers             494  149   217    128    575   \n",
       "3             Bournemouth             219   64   107     48    269   \n",
       "4  Brighton & Hove Albion             218   61    85     72    243   \n",
       "\n",
       "   Clean Sheets TeamLaunch  Winners  Runners-up lastplayed_pl  Winning Rate  \\\n",
       "0            66       1875      0.0           0          2011     27.443609   \n",
       "1           210       1875      1.0           1          2012     37.643678   \n",
       "2           108       1874      0.0           0          2012     30.161943   \n",
       "3            45       1899      0.0           0          2023     29.223744   \n",
       "4            58       1901      0.0           0          2023     27.981651   \n",
       "\n",
       "   Loss Rate  Drawn Rate  Clean Sheet Rate  Avg Goals Per Match  scores  \n",
       "0  41.729323   30.827068         24.812030                  1.0     0.0  \n",
       "1  35.919540   26.436782         30.172414                  1.0    75.0  \n",
       "2  43.927126   25.910931         21.862348                  1.0    25.0  \n",
       "3  48.858447   21.917808         20.547945                  1.0     0.0  \n",
       "4  38.990826   33.027523         26.605505                  1.0    15.0  "
      ]
     },
     "execution_count": 53,
     "metadata": {},
     "output_type": "execute_result"
    }
   ],
   "source": [
    "df.head()"
   ]
  },
  {
   "cell_type": "markdown",
   "id": "609d14d7",
   "metadata": {},
   "source": [
    "A Visualisation might helps us to understand the analysis in a better way. Let's do that."
   ]
  },
  {
   "cell_type": "code",
   "execution_count": 54,
   "id": "c02939c9",
   "metadata": {},
   "outputs": [
    {
     "data": {
      "image/png": "[encoded data removed]",
      "text/plain": [
       "<Figure size 2500x1000 with 1 Axes>"
      ]
     },
     "metadata": {},
     "output_type": "display_data"
    }
   ],
   "source": [
    "# sort the DataFrame by score in descending order\n",
    "df_sort = df.sort_values(by='scores', ascending=False)\n",
    "\n",
    "# create a bar chart of team scores\n",
    "plt.figure(figsize=(25,10))\n",
    "plt.bar(df_sort['Club'], df_sort['scores'], color='green')\n",
    "\n",
    "# add labels and title to the chart\n",
    "plt.ylabel('Scores', fontsize=16)\n",
    "plt.title('Football Club v/s performance score', fontsize=18)\n",
    "\n",
    "# add legend to explain the blue bars\n",
    "plt.legend(['Scores'], fontsize=14)\n",
    "\n",
    "# rotate the team names on the x-axis for readability\n",
    "plt.xticks(rotation=90, fontsize=14)\n",
    "plt.yticks(fontsize=14)\n",
    "\n",
    "# set the y-axis limit to start from 0 and end at 100\n",
    "plt.ylim(0, 100)\n",
    "\n",
    "# display the chart\n",
    "plt.show()"
   ]
  },
  {
   "cell_type": "markdown",
   "id": "9094d047",
   "metadata": {},
   "source": [
    "Based on the above chart, **Blackburn Rovers** has the highest score basis our analysis and next best **Leicester City**\n",
    "\n",
    "To ensure a thorough evaluation of football club performance we must consider clubs current form.\n",
    "\n",
    "Let us check the score of those clubs that have played in the last three years. Specifically, suggest including clubs that have played in 2023, as well as those that last played in 2022 and 2021.\n",
    "\n",
    "This approach allows us to pinpoint those clubs that are currently in good form and have consistently performed well over the past few years."
   ]
  },
  {
   "cell_type": "code",
   "execution_count": 56,
   "id": "84aed039",
   "metadata": {},
   "outputs": [
    {
     "data": {
      "image/png": "[encoded data removed]",
      "text/plain": [
       "<Figure size 2500x1000 with 1 Axes>"
      ]
     },
     "metadata": {},
     "output_type": "display_data"
    }
   ],
   "source": [
    "# sort the DataFrame by score in descending order\n",
    "df_sort = df[(df['lastplayed_pl']=='2023') | (df['lastplayed_pl']=='2022') | (df['lastplayed_pl']=='2021')].sort_values(by='scores', ascending=False)\n",
    "\n",
    "# create a bar chart of team scores\n",
    "plt.figure(figsize=(25,10))\n",
    "plt.bar(df_sort['Club'], df_sort['scores'], color='black')\n",
    "\n",
    "# add labels and title to the chart\n",
    "plt.ylabel('Scores', fontsize=16)\n",
    "plt.title('Football Club v/s performance score', fontsize=18)\n",
    "\n",
    "# add legend to explain the blue bars\n",
    "plt.legend(['Scores'], fontsize=14)\n",
    "\n",
    "# rotate the team names on the x-axis for readability\n",
    "plt.xticks(rotation=90, fontsize=14)\n",
    "plt.yticks(fontsize=14)\n",
    "\n",
    "# set the y-axis limit to start from 0 and end at 100\n",
    "plt.ylim(0, 100)\n",
    "\n",
    "# display the chart\n",
    "plt.show()"
   ]
  },
  {
   "cell_type": "markdown",
   "id": "71f520b7",
   "metadata": {},
   "source": [
    "Upon closer examination of the list, we can observe that our current leader, **Blackburn Rovers, is not included**. To gain a better understanding of their performance, it's necessary to investigate further and determine the last year in which Blackburn Rovers played. This information will provide crucial context to our analysis and enable us to assess their recent form accurately."
   ]
  },
  {
   "cell_type": "code",
   "execution_count": 57,
   "id": "deabdcae",
   "metadata": {},
   "outputs": [
    {
     "data": {
      "text/plain": [
       "1    2012\n",
       "Name: lastplayed_pl, dtype: object"
      ]
     },
     "execution_count": 57,
     "metadata": {},
     "output_type": "execute_result"
    }
   ],
   "source": [
    "df[df['Club']=='Blackburn Rovers']['lastplayed_pl']"
   ]
  },
  {
   "cell_type": "markdown",
   "id": "0da267a1",
   "metadata": {},
   "source": [
    "## Conclusion\n",
    "Blackburn Rovers last played in the tournament in **2012**, which was quite some time ago. Given this information, we recommend that stakeholders consider investing in **Leicester City instead**. We believe that Leicester City's recent form and performance make them a better choice for investment.\n",
    "\n",
    "To support our claim, we will conduct further secondary research to provide additional evidence of Leicester City's current form and potential for success.\n",
    "\n",
    "According to our research, Blackburn Rovers were relegated to the Championship league in 2012 i.e., league below Premier League and later to League One in 2017 i.e., league below Championship league. However, they were promoted back to the Championship in 2018 and have since finished in the middle of the table in recent years. Given their inconsistent performance and lack of presence in the Premier League since 2012, it would be inappropriate to recommend this club for investment.\n",
    "\n",
    "On the other hand, Leicester City, the 2016 Premier League champions, have consistently finished in the top 10 in recent years. They placed 5th in both the 2019-2020 and 2020-2021 seasons and finished 8th in 2021-2022. With sufficient **financial backing, Leicester City has the potential to achieve even greater success in the near future**.\n",
    "\n",
    "Therefore, it would be reasonable to recommend **Leicester City** to our clients."
   ]
  },
  {
   "cell_type": "markdown",
   "id": "bbf558e7",
   "metadata": {},
   "source": [
    "### Sources\n",
    " Source 1: https://www.transfermarkt.co.in/blackburn-rovers/platzierungen/verein/164\n",
    " \n",
    " Source 2:https://www.transfermarkt.co.in/leicester-city/platzierungen/verein/1003"
   ]
  },
  {
   "cell_type": "markdown",
   "id": "dfe44aa5",
   "metadata": {},
   "source": [
    "## We recommend investing in LEICESTER CITY based on our analysis!"
   ]
  },
  {
   "cell_type": "markdown",
   "id": "2514b4c4",
   "metadata": {},
   "source": [
    "## Thank you!!"
   ]
  },
  {
   "cell_type": "markdown",
   "id": "8e0c46cb",
   "metadata": {},
   "source": [
    "#### -Komalika Kunapareddy"
   ]
  },
  {
   "cell_type": "code",
   "execution_count": null,
   "id": "c504478a",
   "metadata": {},
   "outputs": [],
   "source": []
  }
 ],
 "metadata": {
  "kernelspec": {
   "display_name": "Python 3 (ipykernel)",
   "language": "python",
   "name": "python3"
  },
  "language_info": {
   "codemirror_mode": {
    "name": "ipython",
    "version": 3
   },
   "file_extension": ".py",
   "mimetype": "text/x-python",
   "name": "python",
   "nbconvert_exporter": "python",
   "pygments_lexer": "ipython3",
   "version": "3.11.5"
  }
 },
 "nbformat": 4,
 "nbformat_minor": 5
}
